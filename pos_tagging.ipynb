{
 "cells": [
  {
   "cell_type": "markdown",
   "id": "4bafc8d4",
   "metadata": {},
   "source": [
    "#  Part of Speech\n",
    "\n",
    "Autora: Rita Rezende Borges de Lima\n",
    "\n",
    "O objetivo principal do trabalho consiste de treinar e validar um modelo de  *Part of Speech* (POS) para a lingua portuguesa, utilizando como corpus o conjunto de dados **Mac-Morpho**."
   ]
  },
  {
   "cell_type": "code",
   "execution_count": 1,
   "id": "62d063ef",
   "metadata": {},
   "outputs": [
    {
     "name": "stderr",
     "output_type": "stream",
     "text": [
      "/usr/lib/python3/dist-packages/requests/__init__.py:89: RequestsDependencyWarning: urllib3 (1.26.8) or chardet (4.0.0) doesn't match a supported version!\n",
      "  warnings.warn(\"urllib3 ({}) or chardet ({}) doesn't match a supported \"\n"
     ]
    }
   ],
   "source": [
    "import pandas as pd\n",
    "import numpy as np\n",
    "import spacy, re, nltk\n",
    "import matplotlib as mpl\n",
    "import seaborn as sns\n",
    "\n",
    "from nltk.tag import hmm\n",
    "from nltk.tokenize import word_tokenize, sent_tokenize\n",
    "from sklearn.metrics import classification_report\n"
   ]
  },
  {
   "cell_type": "markdown",
   "id": "e9b65eb5",
   "metadata": {},
   "source": [
    "## Preprocessamento de Dados\n",
    "\n",
    "A **primeira etapa** realizada foi a preparação dos dados utilizados. Foi realizada a leitura dos arquivos de corpus *macmorpho-train.txt* e *macmorpho-test.txt*. A base de treinamento contém 36843 sentenças tageadas em portugês, já a base de teste contém 9513 sentenças. Ou seja, a base de dados está dividida em treinamento e testes com uma proporção 80% e 20% dos dados, respectivamente."
   ]
  },
  {
   "cell_type": "code",
   "execution_count": 2,
   "id": "1a914c80",
   "metadata": {},
   "outputs": [],
   "source": [
    "def word_tag_separation(train_tokens):\n",
    "    labelled_sentence = []\n",
    "    sentence = ''\n",
    "    for element in train_tokens:\n",
    "        if '_' in element:\n",
    "            word, tag = element.split('_')\n",
    "            labelled_sentence.append((word.lower(), tag))\n",
    "            sentence += word + ' '\n",
    "    return labelled_sentence, sentence"
   ]
  },
  {
   "cell_type": "code",
   "execution_count": 3,
   "id": "7df6bfc3",
   "metadata": {},
   "outputs": [],
   "source": [
    "def sentence_tokenization(set):\n",
    "    sentences, cur_sentence = [], []\n",
    "\n",
    "    for token in set:\n",
    "        cur_sentence.append(token)\n",
    "        if token[0] == '.' or token[0] == ':' or token[0] == ';' or  token[0] == '!' or token[0] == '?' or token[0] == '…':\n",
    "            sentences.append(cur_sentence)\n",
    "            cur_sentence = []\n",
    "            \n",
    "    return sentences"
   ]
  },
  {
   "cell_type": "markdown",
   "id": "8e7bd84a",
   "metadata": {},
   "source": [
    "O texto foi transformado em uma lista de frases que por sua vez é uma lista de palavras. Estas palavras consistem de tuplas onde o primeiro valor é a palavra toda em caixa baixa e o segundo é sua etiqueta."
   ]
  },
  {
   "cell_type": "code",
   "execution_count": 4,
   "id": "e6ebdd69",
   "metadata": {},
   "outputs": [
    {
     "name": "stdout",
     "output_type": "stream",
     "text": [
      "Quantidade de palavras do conjunto de treinamento:  728497\n",
      "Quantidade de sentencas do conjunto de treinamento:  36843\n"
     ]
    },
    {
     "data": {
      "text/plain": [
       "[('jersei', 'N'),\n",
       " ('atinge', 'V'),\n",
       " ('média', 'N'),\n",
       " ('de', 'PREP'),\n",
       " ('cr$', 'CUR'),\n",
       " ('1,4', 'NUM'),\n",
       " ('milhão', 'N'),\n",
       " ('na', 'PREP+ART'),\n",
       " ('venda', 'N'),\n",
       " ('da', 'PREP+ART'),\n",
       " ('pinhal', 'NPROP'),\n",
       " ('em', 'PREP'),\n",
       " ('são', 'NPROP'),\n",
       " ('paulo', 'NPROP'),\n",
       " ('.', 'PU')]"
      ]
     },
     "execution_count": 4,
     "metadata": {},
     "output_type": "execute_result"
    }
   ],
   "source": [
    "train_text = open('macmorpho-train.txt', encoding='utf-8').read()\n",
    "train_tokens = re.sub('\\n', ' ', train_text).split(' ')\n",
    "\n",
    "train_set, train_text = word_tag_separation(train_tokens)\n",
    "train_sentences = sentence_tokenization(train_set)\n",
    "\n",
    "print(\"Quantidade de palavras do conjunto de treinamento: \", len(train_set))\n",
    "print(\"Quantidade de sentencas do conjunto de treinamento: \", len(train_sentences))\n",
    "\n",
    "train_sentences[0]"
   ]
  },
  {
   "cell_type": "code",
   "execution_count": 5,
   "id": "676a7b0a",
   "metadata": {
    "scrolled": true
   },
   "outputs": [
    {
     "name": "stdout",
     "output_type": "stream",
     "text": [
      "Quantidade de palavras do conjunto de teste:  178373\n",
      "Quantidade de sentencas do conjunto de teste:  9513\n"
     ]
    },
    {
     "data": {
      "text/plain": [
       "[('número', 'N'),\n",
       " ('duplo', 'ADJ'),\n",
       " ('especial', 'ADJ'),\n",
       " (',', 'PU'),\n",
       " ('é', 'V'),\n",
       " ('inteirinho', 'ADJ'),\n",
       " ('dedicado', 'PCP'),\n",
       " ('a', 'PREP'),\n",
       " ('ensaios', 'N'),\n",
       " ('sobre', 'PREP'),\n",
       " ('moda', 'N'),\n",
       " ('.', 'PU')]"
      ]
     },
     "execution_count": 5,
     "metadata": {},
     "output_type": "execute_result"
    }
   ],
   "source": [
    "test_text = open('macmorpho-test.txt', encoding='utf-8').read()\n",
    "test_tokens = re.sub('\\n', ' ', test_text).split(' ')\n",
    "\n",
    "test_set, test_text = word_tag_separation(test_tokens)\n",
    "test_sentences = sentence_tokenization(test_set)\n",
    "\n",
    "print(\"Quantidade de palavras do conjunto de teste: \", len(test_set))\n",
    "print(\"Quantidade de sentencas do conjunto de teste: \", len(test_sentences))\n",
    "\n",
    "test_sentences[1]"
   ]
  },
  {
   "cell_type": "code",
   "execution_count": 6,
   "id": "10580d64",
   "metadata": {},
   "outputs": [
    {
     "name": "stdout",
     "output_type": "stream",
     "text": [
      "Quantidade de palavras do conjunto de validação:  38881\n",
      "Quantidade de sentencas do conjunto de validação:  1956\n"
     ]
    },
    {
     "data": {
      "text/plain": [
       "[('porém', 'KC'),\n",
       " (',', 'PU'),\n",
       " ('como', 'KS'),\n",
       " ('a', 'ART'),\n",
       " ('previsão', 'N'),\n",
       " ('indica', 'V'),\n",
       " ('entrada', 'N'),\n",
       " ('de', 'PREP'),\n",
       " ('frente', 'N'),\n",
       " ('fria', 'ADJ'),\n",
       " (',', 'PU'),\n",
       " ('deve', 'V'),\n",
       " ('-se', 'PROPESS'),\n",
       " ('aguardar', 'V'),\n",
       " ('até', 'PREP'),\n",
       " ('quarta-feira', 'N'),\n",
       " ('e', 'KC'),\n",
       " ('irrigar', 'V'),\n",
       " ('somente', 'PDEN'),\n",
       " ('se', 'KS'),\n",
       " ('o', 'ART'),\n",
       " ('total', 'N'),\n",
       " ('de', 'PREP'),\n",
       " ('chuva', 'N'),\n",
       " ('for', 'V'),\n",
       " ('inferior', 'ADJ'),\n",
       " ('a', 'PREP'),\n",
       " ('30', 'NUM'),\n",
       " ('mm', 'N'),\n",
       " ('.', 'PU')]"
      ]
     },
     "execution_count": 6,
     "metadata": {},
     "output_type": "execute_result"
    }
   ],
   "source": [
    "validation_text = open('macmorpho-dev.txt', encoding='utf-8').read()\n",
    "validation_tokens = re.sub('\\n', ' ', validation_text).split(' ')\n",
    "\n",
    "validation_set, validation_text = word_tag_separation(validation_tokens)\n",
    "validation_sentences = sentence_tokenization(validation_set)\n",
    "\n",
    "print(\"Quantidade de palavras do conjunto de validação: \", len(validation_set))\n",
    "print(\"Quantidade de sentencas do conjunto de validação: \", len(validation_sentences))\n",
    "\n",
    "validation_sentences[1]"
   ]
  },
  {
   "cell_type": "markdown",
   "id": "b35c37ef",
   "metadata": {},
   "source": [
    "## Treinamento dos Modelos\n",
    "\n",
    "Após a preparação dos dados, iniciaremos o **treinamento do modelo**. Existem múltiplos modos de realizar o treinamento de um modelo de POS, neste trabalho focaremos em dois: um utilizando **Long Short Term Memory:** e **Hidden Markov Model:**.  \n",
    "\n",
    "Estes foram utilizados, testados e validadados nesse trabalho. A seguir, são apresentados os processos de treinamento e validação.\n",
    "\n"
   ]
  },
  {
   "cell_type": "markdown",
   "id": "c50ddfc8",
   "metadata": {},
   "source": [
    "### Treinamento Hidden Markov Model"
   ]
  },
  {
   "cell_type": "code",
   "execution_count": 7,
   "id": "79577907",
   "metadata": {},
   "outputs": [],
   "source": [
    "trainer = hmm.HiddenMarkovModelTrainer()\n",
    "model_hmm = trainer.train_supervised(train_sentences)"
   ]
  },
  {
   "cell_type": "markdown",
   "id": "bb9176aa",
   "metadata": {},
   "source": [
    "### Teste Hidden Markov Model\n",
    "Como é possível ver abaixo o modelo HMM obteve um valor de acurácia de 67% na base de teste."
   ]
  },
  {
   "cell_type": "code",
   "execution_count": 8,
   "id": "9db11f7c",
   "metadata": {},
   "outputs": [
    {
     "name": "stdout",
     "output_type": "stream",
     "text": [
      "Accuracy HMM model: 67.92171460927382\n"
     ]
    }
   ],
   "source": [
    "print(\"Accuracy HMM model: {}\".format(model_hmm.evaluate(test_sentences) * 100))"
   ]
  },
  {
   "cell_type": "markdown",
   "id": "c9145ad1",
   "metadata": {},
   "source": [
    "## Validação dos Modelos"
   ]
  },
  {
   "cell_type": "markdown",
   "id": "9e5b8d2a",
   "metadata": {},
   "source": [
    "### Funções utilizadas em ambas as validações"
   ]
  },
  {
   "cell_type": "code",
   "execution_count": 9,
   "id": "a175eb12",
   "metadata": {},
   "outputs": [],
   "source": [
    "def generate_df_class_by_class(model, test):\n",
    "\n",
    "\n",
    "    tagged_test_sentences = model.tag_sents([[token for token,tag in sent] for sent in test])\n",
    "    y_test = [str(tag) for sentence in test for token,tag in sentence]\n",
    "    y_pred = [str(tag) for sentence in tagged_test_sentences for token,tag in sentence]\n",
    "    \n",
    "    \n",
    "    df = pd.DataFrame([[0] * 8] *8, columns, columns)\n",
    "  \n",
    "    for test, pred in zip(y_test, y_pred):\n",
    "        if test in columns and pred in columns:\n",
    "            df[test][pred] += 1\n",
    "            \n",
    "            \n",
    "    return df"
   ]
  },
  {
   "cell_type": "code",
   "execution_count": 14,
   "id": "de82b13f",
   "metadata": {},
   "outputs": [],
   "source": [
    "def generate_df_evaluate_by_class(model, test):\n",
    "\n",
    "    tagged_test_sentences = model.tag_sents([[token for token,tag in sent] for sent in test])\n",
    "    gold = [str(tag) for sentence in test for token,tag in sentence]\n",
    "    pred = [str(tag) for sentence in tagged_test_sentences for token,tag in sentence]\n",
    "\n",
    "    report = classification_report(gold, pred, output_dict=True)\n",
    "    df = pd.DataFrame(report).transpose().reset_index()\n",
    "\n",
    "    return df"
   ]
  },
  {
   "cell_type": "code",
   "execution_count": 11,
   "id": "5ae12092",
   "metadata": {},
   "outputs": [],
   "source": [
    "def prettify_dataframes(df_hmm):\n",
    "    def highlight_bg_correct_pred(s):\n",
    "        def get_color(value):\n",
    "            r = 235 - value/255\n",
    "            g = 240 \n",
    "            b = 230 - value/255\n",
    "            return 'rgb({r}, {g}, {b})'.format(r=r, g=g, b=b)\n",
    "\n",
    "        return ['background-color: {color}'.format(color = get_color(s[idx])) if idx == s._name else '' for idx in s.index]\n",
    "\n",
    "    def highlight_bg_wrong_pred(s):\n",
    "        def get_color(value):\n",
    "            r = 235\n",
    "            g = 160 - value/2\n",
    "            b = 160 - value/2\n",
    "            return 'rgb({r}, {g}, {b})'.format(r=r, g=g, b=b)\n",
    "\n",
    "        return ['background-color: {color}'.format(color = get_color(s[idx])) if idx != s._name else '' for idx in s.index]\n",
    "\n",
    "    return df_hmm.style.apply(highlight_bg_correct_pred, axis = 1)\\\n",
    "                        .apply(highlight_bg_wrong_pred, axis = 1)"
   ]
  },
  {
   "cell_type": "markdown",
   "id": "b69f147b",
   "metadata": {},
   "source": [
    "### Validação Hidden Markov Model\n",
    "\n",
    "Inicialmente para cada palavra em nosso conjunto de validação iremos tentar prever sua classe lexical e adicionar esta ocorrência em um dataframe para a respectiva tag correta a posição da tag encontrada. Ou seja, todos as ocorrências na diagonal do df (pintado de verde) representam ocorrências corretas, o restante (pintado de vermelho) representa ocorrências onde nosso modelo errou. A análise foi realizada para as oito classes mais comuns e esta pode ser vista a seguir:"
   ]
  },
  {
   "cell_type": "code",
   "execution_count": 12,
   "id": "661b7bce",
   "metadata": {},
   "outputs": [
    {
     "data": {
      "text/html": [
       "<style  type=\"text/css\" >\n",
       "#T_1ee4c_row0_col0{\n",
       "            background-color:  rgb(203.38823529411764, 240, 198.38823529411764);\n",
       "        }#T_1ee4c_row0_col1{\n",
       "            background-color:  rgb(235, 37.0, 37.0);\n",
       "        }#T_1ee4c_row0_col2{\n",
       "            background-color:  rgb(235, -129.0, -129.0);\n",
       "        }#T_1ee4c_row0_col3{\n",
       "            background-color:  rgb(235, -159.5, -159.5);\n",
       "        }#T_1ee4c_row0_col4{\n",
       "            background-color:  rgb(235, 39.5, 39.5);\n",
       "        }#T_1ee4c_row0_col5{\n",
       "            background-color:  rgb(235, -591.0, -591.0);\n",
       "        }#T_1ee4c_row0_col6{\n",
       "            background-color:  rgb(235, -349.0, -349.0);\n",
       "        }#T_1ee4c_row0_col7{\n",
       "            background-color:  rgb(235, -290.0, -290.0);\n",
       "        }#T_1ee4c_row1_col0,#T_1ee4c_row5_col3{\n",
       "            background-color:  rgb(235, 147.5, 147.5);\n",
       "        }#T_1ee4c_row1_col1{\n",
       "            background-color:  rgb(233.3607843137255, 240, 228.3607843137255);\n",
       "        }#T_1ee4c_row1_col2,#T_1ee4c_row1_col3,#T_1ee4c_row1_col4,#T_1ee4c_row1_col6,#T_1ee4c_row1_col7,#T_1ee4c_row2_col3,#T_1ee4c_row2_col7,#T_1ee4c_row3_col1,#T_1ee4c_row3_col2,#T_1ee4c_row3_col7,#T_1ee4c_row4_col1,#T_1ee4c_row4_col2,#T_1ee4c_row4_col7,#T_1ee4c_row5_col4,#T_1ee4c_row6_col1,#T_1ee4c_row7_col1,#T_1ee4c_row7_col2{\n",
       "            background-color:  rgb(235, 160.0, 160.0);\n",
       "        }#T_1ee4c_row1_col5{\n",
       "            background-color:  rgb(235, 158.0, 158.0);\n",
       "        }#T_1ee4c_row2_col0,#T_1ee4c_row5_col1,#T_1ee4c_row5_col7,#T_1ee4c_row7_col3{\n",
       "            background-color:  rgb(235, 159.0, 159.0);\n",
       "        }#T_1ee4c_row2_col1{\n",
       "            background-color:  rgb(235, 146.0, 146.0);\n",
       "        }#T_1ee4c_row2_col2{\n",
       "            background-color:  rgb(226.01176470588234, 240, 221.01176470588234);\n",
       "        }#T_1ee4c_row2_col4,#T_1ee4c_row4_col5,#T_1ee4c_row5_col2,#T_1ee4c_row6_col7,#T_1ee4c_row7_col4,#T_1ee4c_row7_col6{\n",
       "            background-color:  rgb(235, 159.5, 159.5);\n",
       "        }#T_1ee4c_row2_col5{\n",
       "            background-color:  rgb(235, 152.5, 152.5);\n",
       "        }#T_1ee4c_row2_col6{\n",
       "            background-color:  rgb(235, 145.0, 145.0);\n",
       "        }#T_1ee4c_row3_col0{\n",
       "            background-color:  rgb(235, 123.5, 123.5);\n",
       "        }#T_1ee4c_row3_col3{\n",
       "            background-color:  rgb(230.4470588235294, 240, 225.4470588235294);\n",
       "        }#T_1ee4c_row3_col4,#T_1ee4c_row4_col3{\n",
       "            background-color:  rgb(235, 157.5, 157.5);\n",
       "        }#T_1ee4c_row3_col5{\n",
       "            background-color:  rgb(235, 126.5, 126.5);\n",
       "        }#T_1ee4c_row3_col6,#T_1ee4c_row4_col0{\n",
       "            background-color:  rgb(235, 158.5, 158.5);\n",
       "        }#T_1ee4c_row4_col4{\n",
       "            background-color:  rgb(232.53725490196078, 240, 227.53725490196078);\n",
       "        }#T_1ee4c_row4_col6{\n",
       "            background-color:  rgb(235, 140.5, 140.5);\n",
       "        }#T_1ee4c_row5_col0{\n",
       "            background-color:  rgb(235, 101.5, 101.5);\n",
       "        }#T_1ee4c_row5_col5{\n",
       "            background-color:  rgb(226.89803921568628, 240, 221.89803921568628);\n",
       "        }#T_1ee4c_row5_col6{\n",
       "            background-color:  rgb(235, 150.5, 150.5);\n",
       "        }#T_1ee4c_row6_col0,#T_1ee4c_row6_col3{\n",
       "            background-color:  rgb(235, 157.0, 157.0);\n",
       "        }#T_1ee4c_row6_col2{\n",
       "            background-color:  rgb(235, 148.5, 148.5);\n",
       "        }#T_1ee4c_row6_col4{\n",
       "            background-color:  rgb(235, 142.0, 142.0);\n",
       "        }#T_1ee4c_row6_col5{\n",
       "            background-color:  rgb(235, 124.5, 124.5);\n",
       "        }#T_1ee4c_row6_col6{\n",
       "            background-color:  rgb(224.6627450980392, 240, 219.6627450980392);\n",
       "        }#T_1ee4c_row7_col0{\n",
       "            background-color:  rgb(235, 153.0, 153.0);\n",
       "        }#T_1ee4c_row7_col5{\n",
       "            background-color:  rgb(235, 156.5, 156.5);\n",
       "        }#T_1ee4c_row7_col7{\n",
       "            background-color:  rgb(222.9607843137255, 240, 217.9607843137255);\n",
       "        }</style><table id=\"T_1ee4c_\" ><thead>    <tr>        <th class=\"blank level0\" ></th>        <th class=\"col_heading level0 col0\" >N</th>        <th class=\"col_heading level0 col1\" >NUM</th>        <th class=\"col_heading level0 col2\" >ART</th>        <th class=\"col_heading level0 col3\" >ADJ</th>        <th class=\"col_heading level0 col4\" >ADV</th>        <th class=\"col_heading level0 col5\" >NPROP</th>        <th class=\"col_heading level0 col6\" >PREP</th>        <th class=\"col_heading level0 col7\" >V</th>    </tr></thead><tbody>\n",
       "                <tr>\n",
       "                        <th id=\"T_1ee4c_level0_row0\" class=\"row_heading level0 row0\" >N</th>\n",
       "                        <td id=\"T_1ee4c_row0_col0\" class=\"data row0 col0\" >8061</td>\n",
       "                        <td id=\"T_1ee4c_row0_col1\" class=\"data row0 col1\" >246</td>\n",
       "                        <td id=\"T_1ee4c_row0_col2\" class=\"data row0 col2\" >578</td>\n",
       "                        <td id=\"T_1ee4c_row0_col3\" class=\"data row0 col3\" >639</td>\n",
       "                        <td id=\"T_1ee4c_row0_col4\" class=\"data row0 col4\" >241</td>\n",
       "                        <td id=\"T_1ee4c_row0_col5\" class=\"data row0 col5\" >1502</td>\n",
       "                        <td id=\"T_1ee4c_row0_col6\" class=\"data row0 col6\" >1018</td>\n",
       "                        <td id=\"T_1ee4c_row0_col7\" class=\"data row0 col7\" >900</td>\n",
       "            </tr>\n",
       "            <tr>\n",
       "                        <th id=\"T_1ee4c_level0_row1\" class=\"row_heading level0 row1\" >NUM</th>\n",
       "                        <td id=\"T_1ee4c_row1_col0\" class=\"data row1 col0\" >25</td>\n",
       "                        <td id=\"T_1ee4c_row1_col1\" class=\"data row1 col1\" >418</td>\n",
       "                        <td id=\"T_1ee4c_row1_col2\" class=\"data row1 col2\" >0</td>\n",
       "                        <td id=\"T_1ee4c_row1_col3\" class=\"data row1 col3\" >0</td>\n",
       "                        <td id=\"T_1ee4c_row1_col4\" class=\"data row1 col4\" >0</td>\n",
       "                        <td id=\"T_1ee4c_row1_col5\" class=\"data row1 col5\" >4</td>\n",
       "                        <td id=\"T_1ee4c_row1_col6\" class=\"data row1 col6\" >0</td>\n",
       "                        <td id=\"T_1ee4c_row1_col7\" class=\"data row1 col7\" >0</td>\n",
       "            </tr>\n",
       "            <tr>\n",
       "                        <th id=\"T_1ee4c_level0_row2\" class=\"row_heading level0 row2\" >ART</th>\n",
       "                        <td id=\"T_1ee4c_row2_col0\" class=\"data row2 col0\" >2</td>\n",
       "                        <td id=\"T_1ee4c_row2_col1\" class=\"data row2 col1\" >28</td>\n",
       "                        <td id=\"T_1ee4c_row2_col2\" class=\"data row2 col2\" >2292</td>\n",
       "                        <td id=\"T_1ee4c_row2_col3\" class=\"data row2 col3\" >0</td>\n",
       "                        <td id=\"T_1ee4c_row2_col4\" class=\"data row2 col4\" >1</td>\n",
       "                        <td id=\"T_1ee4c_row2_col5\" class=\"data row2 col5\" >15</td>\n",
       "                        <td id=\"T_1ee4c_row2_col6\" class=\"data row2 col6\" >30</td>\n",
       "                        <td id=\"T_1ee4c_row2_col7\" class=\"data row2 col7\" >0</td>\n",
       "            </tr>\n",
       "            <tr>\n",
       "                        <th id=\"T_1ee4c_level0_row3\" class=\"row_heading level0 row3\" >ADJ</th>\n",
       "                        <td id=\"T_1ee4c_row3_col0\" class=\"data row3 col0\" >73</td>\n",
       "                        <td id=\"T_1ee4c_row3_col1\" class=\"data row3 col1\" >0</td>\n",
       "                        <td id=\"T_1ee4c_row3_col2\" class=\"data row3 col2\" >0</td>\n",
       "                        <td id=\"T_1ee4c_row3_col3\" class=\"data row3 col3\" >1161</td>\n",
       "                        <td id=\"T_1ee4c_row3_col4\" class=\"data row3 col4\" >5</td>\n",
       "                        <td id=\"T_1ee4c_row3_col5\" class=\"data row3 col5\" >67</td>\n",
       "                        <td id=\"T_1ee4c_row3_col6\" class=\"data row3 col6\" >3</td>\n",
       "                        <td id=\"T_1ee4c_row3_col7\" class=\"data row3 col7\" >0</td>\n",
       "            </tr>\n",
       "            <tr>\n",
       "                        <th id=\"T_1ee4c_level0_row4\" class=\"row_heading level0 row4\" >ADV</th>\n",
       "                        <td id=\"T_1ee4c_row4_col0\" class=\"data row4 col0\" >3</td>\n",
       "                        <td id=\"T_1ee4c_row4_col1\" class=\"data row4 col1\" >0</td>\n",
       "                        <td id=\"T_1ee4c_row4_col2\" class=\"data row4 col2\" >0</td>\n",
       "                        <td id=\"T_1ee4c_row4_col3\" class=\"data row4 col3\" >5</td>\n",
       "                        <td id=\"T_1ee4c_row4_col4\" class=\"data row4 col4\" >628</td>\n",
       "                        <td id=\"T_1ee4c_row4_col5\" class=\"data row4 col5\" >1</td>\n",
       "                        <td id=\"T_1ee4c_row4_col6\" class=\"data row4 col6\" >39</td>\n",
       "                        <td id=\"T_1ee4c_row4_col7\" class=\"data row4 col7\" >0</td>\n",
       "            </tr>\n",
       "            <tr>\n",
       "                        <th id=\"T_1ee4c_level0_row5\" class=\"row_heading level0 row5\" >NPROP</th>\n",
       "                        <td id=\"T_1ee4c_row5_col0\" class=\"data row5 col0\" >117</td>\n",
       "                        <td id=\"T_1ee4c_row5_col1\" class=\"data row5 col1\" >2</td>\n",
       "                        <td id=\"T_1ee4c_row5_col2\" class=\"data row5 col2\" >1</td>\n",
       "                        <td id=\"T_1ee4c_row5_col3\" class=\"data row5 col3\" >25</td>\n",
       "                        <td id=\"T_1ee4c_row5_col4\" class=\"data row5 col4\" >0</td>\n",
       "                        <td id=\"T_1ee4c_row5_col5\" class=\"data row5 col5\" >2066</td>\n",
       "                        <td id=\"T_1ee4c_row5_col6\" class=\"data row5 col6\" >19</td>\n",
       "                        <td id=\"T_1ee4c_row5_col7\" class=\"data row5 col7\" >2</td>\n",
       "            </tr>\n",
       "            <tr>\n",
       "                        <th id=\"T_1ee4c_level0_row6\" class=\"row_heading level0 row6\" >PREP</th>\n",
       "                        <td id=\"T_1ee4c_row6_col0\" class=\"data row6 col0\" >6</td>\n",
       "                        <td id=\"T_1ee4c_row6_col1\" class=\"data row6 col1\" >0</td>\n",
       "                        <td id=\"T_1ee4c_row6_col2\" class=\"data row6 col2\" >23</td>\n",
       "                        <td id=\"T_1ee4c_row6_col3\" class=\"data row6 col3\" >6</td>\n",
       "                        <td id=\"T_1ee4c_row6_col4\" class=\"data row6 col4\" >36</td>\n",
       "                        <td id=\"T_1ee4c_row6_col5\" class=\"data row6 col5\" >71</td>\n",
       "                        <td id=\"T_1ee4c_row6_col6\" class=\"data row6 col6\" >2636</td>\n",
       "                        <td id=\"T_1ee4c_row6_col7\" class=\"data row6 col7\" >1</td>\n",
       "            </tr>\n",
       "            <tr>\n",
       "                        <th id=\"T_1ee4c_level0_row7\" class=\"row_heading level0 row7\" >V</th>\n",
       "                        <td id=\"T_1ee4c_row7_col0\" class=\"data row7 col0\" >14</td>\n",
       "                        <td id=\"T_1ee4c_row7_col1\" class=\"data row7 col1\" >0</td>\n",
       "                        <td id=\"T_1ee4c_row7_col2\" class=\"data row7 col2\" >0</td>\n",
       "                        <td id=\"T_1ee4c_row7_col3\" class=\"data row7 col3\" >2</td>\n",
       "                        <td id=\"T_1ee4c_row7_col4\" class=\"data row7 col4\" >1</td>\n",
       "                        <td id=\"T_1ee4c_row7_col5\" class=\"data row7 col5\" >7</td>\n",
       "                        <td id=\"T_1ee4c_row7_col6\" class=\"data row7 col6\" >1</td>\n",
       "                        <td id=\"T_1ee4c_row7_col7\" class=\"data row7 col7\" >3070</td>\n",
       "            </tr>\n",
       "    </tbody></table>"
      ],
      "text/plain": [
       "<pandas.io.formats.style.Styler at 0x7f25b06b26d0>"
      ]
     },
     "execution_count": 12,
     "metadata": {},
     "output_type": "execute_result"
    }
   ],
   "source": [
    "columns = [\"N\", \"NUM\", \"ART\", \"ADJ\", \"ADV\", \"NPROP\", \"PREP\", \"V\"]\n",
    "df_hmm = generate_df_class_by_class(model_hmm, validation_sentences)\n",
    "\n",
    "prettify_dataframes(df_hmm)"
   ]
  },
  {
   "cell_type": "markdown",
   "id": "25608050",
   "metadata": {},
   "source": [
    "Por meio da biblioteca *scikit-learn* também geraremos um report com métricas como precisão, f1-score e suporte. A análise foi realizada para as oito classes mais comuns e esta pode ser vista a seguir:"
   ]
  },
  {
   "cell_type": "code",
   "execution_count": 15,
   "id": "55af35e3",
   "metadata": {},
   "outputs": [
    {
     "data": {
      "text/html": [
       "<div>\n",
       "<style scoped>\n",
       "    .dataframe tbody tr th:only-of-type {\n",
       "        vertical-align: middle;\n",
       "    }\n",
       "\n",
       "    .dataframe tbody tr th {\n",
       "        vertical-align: top;\n",
       "    }\n",
       "\n",
       "    .dataframe thead th {\n",
       "        text-align: right;\n",
       "    }\n",
       "</style>\n",
       "<table border=\"1\" class=\"dataframe\">\n",
       "  <thead>\n",
       "    <tr style=\"text-align: right;\">\n",
       "      <th></th>\n",
       "      <th>index</th>\n",
       "      <th>precision</th>\n",
       "      <th>recall</th>\n",
       "      <th>f1-score</th>\n",
       "      <th>support</th>\n",
       "    </tr>\n",
       "  </thead>\n",
       "  <tbody>\n",
       "    <tr>\n",
       "      <th>0</th>\n",
       "      <td>ADJ</td>\n",
       "      <td>0.879545</td>\n",
       "      <td>0.630293</td>\n",
       "      <td>0.734345</td>\n",
       "      <td>1842.0</td>\n",
       "    </tr>\n",
       "    <tr>\n",
       "      <th>1</th>\n",
       "      <td>ADV</td>\n",
       "      <td>0.872222</td>\n",
       "      <td>0.654849</td>\n",
       "      <td>0.748064</td>\n",
       "      <td>959.0</td>\n",
       "    </tr>\n",
       "    <tr>\n",
       "      <th>3</th>\n",
       "      <td>ART</td>\n",
       "      <td>0.961813</td>\n",
       "      <td>0.790617</td>\n",
       "      <td>0.867853</td>\n",
       "      <td>2899.0</td>\n",
       "    </tr>\n",
       "    <tr>\n",
       "      <th>8</th>\n",
       "      <td>N</td>\n",
       "      <td>0.472952</td>\n",
       "      <td>0.969569</td>\n",
       "      <td>0.635776</td>\n",
       "      <td>8314.0</td>\n",
       "    </tr>\n",
       "    <tr>\n",
       "      <th>9</th>\n",
       "      <td>NPROP</td>\n",
       "      <td>0.916593</td>\n",
       "      <td>0.543827</td>\n",
       "      <td>0.682637</td>\n",
       "      <td>3799.0</td>\n",
       "    </tr>\n",
       "    <tr>\n",
       "      <th>10</th>\n",
       "      <td>NUM</td>\n",
       "      <td>0.935123</td>\n",
       "      <td>0.600575</td>\n",
       "      <td>0.731409</td>\n",
       "      <td>696.0</td>\n",
       "    </tr>\n",
       "    <tr>\n",
       "      <th>13</th>\n",
       "      <td>PREP</td>\n",
       "      <td>0.936412</td>\n",
       "      <td>0.697908</td>\n",
       "      <td>0.799757</td>\n",
       "      <td>3777.0</td>\n",
       "    </tr>\n",
       "    <tr>\n",
       "      <th>25</th>\n",
       "      <td>V</td>\n",
       "      <td>0.990962</td>\n",
       "      <td>0.772327</td>\n",
       "      <td>0.868090</td>\n",
       "      <td>3975.0</td>\n",
       "    </tr>\n",
       "  </tbody>\n",
       "</table>\n",
       "</div>"
      ],
      "text/plain": [
       "    index  precision    recall  f1-score  support\n",
       "0     ADJ   0.879545  0.630293  0.734345   1842.0\n",
       "1     ADV   0.872222  0.654849  0.748064    959.0\n",
       "3     ART   0.961813  0.790617  0.867853   2899.0\n",
       "8       N   0.472952  0.969569  0.635776   8314.0\n",
       "9   NPROP   0.916593  0.543827  0.682637   3799.0\n",
       "10    NUM   0.935123  0.600575  0.731409    696.0\n",
       "13   PREP   0.936412  0.697908  0.799757   3777.0\n",
       "25      V   0.990962  0.772327  0.868090   3975.0"
      ]
     },
     "execution_count": 15,
     "metadata": {},
     "output_type": "execute_result"
    }
   ],
   "source": [
    "df_hmm_results = generate_df_evaluate_by_class(model_hmm, validation_sentences)\n",
    "df_hmm_results.loc[(df_hmm_results['index'].isin(columns))]"
   ]
  },
  {
   "cell_type": "markdown",
   "id": "56f7c102",
   "metadata": {},
   "source": [
    "## Conclusão\n",
    "\n",
    "Para o modelo **Hidden Markov Model** foi possível observar uma maior precisão para as classes de verbo, preposição, numeral e nomes próprios. É também interessante ressaltar a baixa precisão para nomes, múltiplas palavras que não tinham essa classe foram classificadas assim erroneamente. Também é interessante ressaltar a alta quantidade de falsos positivos para nomes e nomes próprios que foram classificados de maneira errada como adjetivos e preposições. Artigos e Preposições também foram confundidos de ambos os modos. "
   ]
  }
 ],
 "metadata": {
  "kernelspec": {
   "display_name": "Python 3 (ipykernel)",
   "language": "python",
   "name": "python3"
  },
  "language_info": {
   "codemirror_mode": {
    "name": "ipython",
    "version": 3
   },
   "file_extension": ".py",
   "mimetype": "text/x-python",
   "name": "python",
   "nbconvert_exporter": "python",
   "pygments_lexer": "ipython3",
   "version": "3.8.10"
  }
 },
 "nbformat": 4,
 "nbformat_minor": 5
}
