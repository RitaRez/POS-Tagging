{
 "cells": [
  {
   "cell_type": "markdown",
   "id": "4bafc8d4",
   "metadata": {},
   "source": [
    "#  Part of Speech\n",
    "\n",
    "Autora: Rita Rezende Borges de Lima\n",
    "\n",
    "O objetivo principal do trabalho consiste de treinar e validar um modelo de  *Part of Speech* (POS) para a lingua portuguesa, utilizando como corpus o conjunto de dados **Mac-Morpho**."
   ]
  },
  {
   "cell_type": "code",
   "execution_count": 1,
   "id": "62d063ef",
   "metadata": {},
   "outputs": [
    {
     "name": "stderr",
     "output_type": "stream",
     "text": [
      "2022-02-04 10:27:05.968798: W tensorflow/stream_executor/platform/default/dso_loader.cc:64] Could not load dynamic library 'libcudart.so.11.0'; dlerror: libcudart.so.11.0: cannot open shared object file: No such file or directory\n",
      "2022-02-04 10:27:05.968875: I tensorflow/stream_executor/cuda/cudart_stub.cc:29] Ignore above cudart dlerror if you do not have a GPU set up on your machine.\n",
      "/usr/lib/python3/dist-packages/requests/__init__.py:89: RequestsDependencyWarning: urllib3 (1.26.8) or chardet (4.0.0) doesn't match a supported version!\n",
      "  warnings.warn(\"urllib3 ({}) or chardet ({}) doesn't match a supported \"\n"
     ]
    }
   ],
   "source": [
    "import pandas as pd\n",
    "import numpy as np\n",
    "import re, nltk\n",
    "import matplotlib as mpl\n",
    "\n",
    "from nltk.tag import hmm\n",
    "from nltk.tokenize import word_tokenize, sent_tokenize\n",
    "from sklearn.metrics import classification_report\n"
   ]
  },
  {
   "cell_type": "markdown",
   "id": "e9b65eb5",
   "metadata": {},
   "source": [
    "## Preprocessamento de Dados\n",
    "\n",
    "A **primeira etapa** realizada foi a preparação dos dados utilizados. Foi realizada a leitura dos arquivos de corpus *macmorpho-train.txt* e *macmorpho-test.txt*. A base de treinamento contém 36843 sentenças tageadas em portugês, já a base de teste contém 9513 sentenças. Ou seja, a base de dados está dividida em treinamento e testes com uma proporção 80% e 20% dos dados, respectivamente."
   ]
  },
  {
   "cell_type": "code",
   "execution_count": 2,
   "id": "1a914c80",
   "metadata": {},
   "outputs": [],
   "source": [
    "def word_tag_separation(train_tokens):\n",
    "    labelled_sentence = []\n",
    "    text, tags = [], []\n",
    "    for element in train_tokens:\n",
    "        if '_' in element:\n",
    "            word, tag = element.split('_')\n",
    "            labelled_sentence.append((word.lower(), tag))\n",
    "            text.append(word)\n",
    "            tags.append(tag)\n",
    "    return labelled_sentence, text, tags"
   ]
  },
  {
   "cell_type": "code",
   "execution_count": 3,
   "id": "7df6bfc3",
   "metadata": {},
   "outputs": [],
   "source": [
    "def sentence_tokenization(set):\n",
    "    sentences, cur_sentence = [], []\n",
    "\n",
    "    for token in set:\n",
    "        cur_sentence.append(token)\n",
    "        if token[0] == '.' or token[0] == ':' or token[0] == ';' or  token[0] == '!' or token[0] == '?' or token[0] == '…':\n",
    "            sentences.append(cur_sentence)\n",
    "            cur_sentence = []\n",
    "            \n",
    "    return sentences"
   ]
  },
  {
   "cell_type": "markdown",
   "id": "8e7bd84a",
   "metadata": {},
   "source": [
    "O texto foi transformado em uma lista de frases que por sua vez é uma lista de palavras. Estas palavras consistem de tuplas onde o primeiro valor é a palavra toda em caixa baixa e o segundo é sua etiqueta."
   ]
  },
  {
   "cell_type": "code",
   "execution_count": 4,
   "id": "e6ebdd69",
   "metadata": {},
   "outputs": [
    {
     "name": "stdout",
     "output_type": "stream",
     "text": [
      "Quantidade de palavras do conjunto de treinamento:  728497\n",
      "Quantidade de sentencas do conjunto de treinamento:  36843\n"
     ]
    },
    {
     "data": {
      "text/plain": [
       "[('jersei', 'N'),\n",
       " ('atinge', 'V'),\n",
       " ('média', 'N'),\n",
       " ('de', 'PREP'),\n",
       " ('cr$', 'CUR'),\n",
       " ('1,4', 'NUM'),\n",
       " ('milhão', 'N'),\n",
       " ('na', 'PREP+ART'),\n",
       " ('venda', 'N'),\n",
       " ('da', 'PREP+ART'),\n",
       " ('pinhal', 'NPROP'),\n",
       " ('em', 'PREP'),\n",
       " ('são', 'NPROP'),\n",
       " ('paulo', 'NPROP'),\n",
       " ('.', 'PU')]"
      ]
     },
     "execution_count": 4,
     "metadata": {},
     "output_type": "execute_result"
    }
   ],
   "source": [
    "train_text = open('macmorpho-train.txt', encoding='utf-8').read()\n",
    "train_tokens = re.sub('\\n', ' ', train_text).split(' ')\n",
    "\n",
    "train_set, x_train, y_train = word_tag_separation(train_tokens)\n",
    "train_sentences = sentence_tokenization(train_set)\n",
    "\n",
    "print(\"Quantidade de palavras do conjunto de treinamento: \", len(train_set))\n",
    "print(\"Quantidade de sentencas do conjunto de treinamento: \", len(train_sentences))\n",
    "\n",
    "train_sentences[0]"
   ]
  },
  {
   "cell_type": "code",
   "execution_count": 5,
   "id": "676a7b0a",
   "metadata": {
    "scrolled": true
   },
   "outputs": [
    {
     "name": "stdout",
     "output_type": "stream",
     "text": [
      "Quantidade de palavras do conjunto de teste:  178373\n",
      "Quantidade de sentencas do conjunto de teste:  9513\n"
     ]
    },
    {
     "data": {
      "text/plain": [
       "[('número', 'N'),\n",
       " ('duplo', 'ADJ'),\n",
       " ('especial', 'ADJ'),\n",
       " (',', 'PU'),\n",
       " ('é', 'V'),\n",
       " ('inteirinho', 'ADJ'),\n",
       " ('dedicado', 'PCP'),\n",
       " ('a', 'PREP'),\n",
       " ('ensaios', 'N'),\n",
       " ('sobre', 'PREP'),\n",
       " ('moda', 'N'),\n",
       " ('.', 'PU')]"
      ]
     },
     "execution_count": 5,
     "metadata": {},
     "output_type": "execute_result"
    }
   ],
   "source": [
    "test_text = open('macmorpho-test.txt', encoding='utf-8').read()\n",
    "test_tokens = re.sub('\\n', ' ', test_text).split(' ')\n",
    "\n",
    "test_set, x_test, y_test = word_tag_separation(test_tokens)\n",
    "test_sentences = sentence_tokenization(test_set)\n",
    "\n",
    "print(\"Quantidade de palavras do conjunto de teste: \", len(test_set))\n",
    "print(\"Quantidade de sentencas do conjunto de teste: \", len(test_sentences))\n",
    "\n",
    "test_sentences[1]"
   ]
  },
  {
   "cell_type": "code",
   "execution_count": 6,
   "id": "10580d64",
   "metadata": {},
   "outputs": [
    {
     "name": "stdout",
     "output_type": "stream",
     "text": [
      "Quantidade de palavras do conjunto de validação:  38881\n",
      "Quantidade de sentencas do conjunto de validação:  1956\n"
     ]
    },
    {
     "data": {
      "text/plain": [
       "[('ainda', 'ADV'),\n",
       " ('em', 'PREP'),\n",
       " ('dezembro', 'N'),\n",
       " ('de', 'PREP'),\n",
       " ('1990', 'N'),\n",
       " (',', 'PU'),\n",
       " ('foi', 'V'),\n",
       " ('editada', 'PCP'),\n",
       " ('a', 'ART'),\n",
       " ('famosa', 'ADJ'),\n",
       " ('289', 'N'),\n",
       " (',', 'PU'),\n",
       " ('que', 'PRO-KS'),\n",
       " ('modificava', 'V'),\n",
       " ('a', 'ART'),\n",
       " ('sistemática', 'N'),\n",
       " ('da', 'PREP+ART'),\n",
       " ('arrecadação', 'N'),\n",
       " ('do', 'PREP+ART'),\n",
       " ('itr', 'NPROP'),\n",
       " ('e', 'KC'),\n",
       " ('alterava', 'V'),\n",
       " ('suas', 'PROADJ'),\n",
       " ('alíquotas', 'N'),\n",
       " ('.', 'PU')]"
      ]
     },
     "execution_count": 6,
     "metadata": {},
     "output_type": "execute_result"
    }
   ],
   "source": [
    "validation_text = open('macmorpho-dev.txt', encoding='utf-8').read()\n",
    "validation_tokens = re.sub('\\n', ' ', validation_text).split(' ')\n",
    "\n",
    "validation_set, x_validation, y_validation = word_tag_separation(validation_tokens)\n",
    "validation_sentences = sentence_tokenization(validation_set)\n",
    "\n",
    "print(\"Quantidade de palavras do conjunto de validação: \", len(validation_set))\n",
    "print(\"Quantidade de sentencas do conjunto de validação: \", len(validation_sentences))\n",
    "\n",
    "validation_sentences[0]"
   ]
  },
  {
   "cell_type": "markdown",
   "id": "b35c37ef",
   "metadata": {},
   "source": [
    "## Treinamento e Teste dos Modelos\n",
    "\n",
    "A pós a preparação dos dados, iniciaremos o **treinamento do modelo**. Existem múltiplos modos de realizar o treinamento de um modelo de POS, neste trabalho focaremos no modelo **Hidden Markov Model:**, baseado em uma máquina de estados finita com transições de estado probabilísticas, usa da suposição de Markov que o próximo estado depende apenas do estado atual e é independente do histórico prévio. Para comparar resultados obtidos com este iremos utilizar o modelo **DefaulTagger:** da biblioteca *NLTK* como baseline, este atribui uma tag especifica a todos os dados.\n",
    "\n",
    "Estes foram utilizados, testados e validadados nesse trabalho. A seguir, são apresentados os processos de treinamento e validação.\n",
    "\n"
   ]
  },
  {
   "cell_type": "markdown",
   "id": "fcb89981",
   "metadata": {},
   "source": [
    "### Treinamento e Teste Baseline\n",
    "Utilizando a classe mais comum, nomes (N), obtemos um acerto de 20%."
   ]
  },
  {
   "cell_type": "code",
   "execution_count": 7,
   "id": "9641e042",
   "metadata": {},
   "outputs": [
    {
     "data": {
      "text/plain": [
       "0.2048628435917992"
      ]
     },
     "execution_count": 7,
     "metadata": {},
     "output_type": "execute_result"
    }
   ],
   "source": [
    "baseline = nltk.DefaultTagger('N')\n",
    "baseline.evaluate(test_sentences)"
   ]
  },
  {
   "cell_type": "markdown",
   "id": "c50ddfc8",
   "metadata": {},
   "source": [
    "### Treinamento e Teste Hidden Markov Model"
   ]
  },
  {
   "cell_type": "code",
   "execution_count": 8,
   "id": "79577907",
   "metadata": {},
   "outputs": [],
   "source": [
    "trainer = hmm.HiddenMarkovModelTrainer()\n",
    "model_hmm = trainer.train_supervised(train_sentences)"
   ]
  },
  {
   "cell_type": "markdown",
   "id": "bb9176aa",
   "metadata": {},
   "source": [
    "Como é possível ver abaixo o modelo HMM obteve um valor de acurácia de 67% na base de teste, cerca de 3.5x melhor que nossa baseline."
   ]
  },
  {
   "cell_type": "code",
   "execution_count": 9,
   "id": "9db11f7c",
   "metadata": {},
   "outputs": [
    {
     "name": "stdout",
     "output_type": "stream",
     "text": [
      "Accuracy HMM model: 67.92171460927382\n"
     ]
    }
   ],
   "source": [
    "print(\"Accuracy HMM model: {}\".format(model_hmm.evaluate(test_sentences) * 100))"
   ]
  },
  {
   "cell_type": "markdown",
   "id": "c9145ad1",
   "metadata": {},
   "source": [
    "## Validação dos Modelos"
   ]
  },
  {
   "cell_type": "markdown",
   "id": "9e5b8d2a",
   "metadata": {},
   "source": [
    "### Funções utilizadas em ambas as validações"
   ]
  },
  {
   "cell_type": "code",
   "execution_count": 10,
   "id": "a175eb12",
   "metadata": {},
   "outputs": [],
   "source": [
    "columns = [\"N\", \"NUM\", \"ART\", \"ADJ\", \"ADV\", \"NPROP\", \"PREP\", \"V\"]\n",
    "\n",
    "\n",
    "def generate_df_class_by_class(model, test):\n",
    "\n",
    "\n",
    "    tagged_test_sentences = model.tag_sents([[token for token,tag in sent] for sent in test])\n",
    "    y_test = [str(tag) for sentence in test for token,tag in sentence]\n",
    "    y_pred = [str(tag) for sentence in tagged_test_sentences for token,tag in sentence]\n",
    "    \n",
    "    \n",
    "    df = pd.DataFrame([[0] * 8] *8, columns, columns)\n",
    "  \n",
    "    for test, pred in zip(y_test, y_pred):\n",
    "        if test in columns and pred in columns:\n",
    "            df[test][pred] += 1\n",
    "            \n",
    "            \n",
    "    return df"
   ]
  },
  {
   "cell_type": "code",
   "execution_count": 11,
   "id": "de82b13f",
   "metadata": {},
   "outputs": [],
   "source": [
    "def generate_df_evaluate_by_class(model, test):\n",
    "\n",
    "    tagged_test_sentences = model.tag_sents([[token for token,tag in sent] for sent in test])\n",
    "    gold = [str(tag) for sentence in test for token,tag in sentence]\n",
    "    pred = [str(tag) for sentence in tagged_test_sentences for token,tag in sentence]\n",
    "\n",
    "    report = classification_report(gold, pred, output_dict=True,zero_division = 0)\n",
    "    df = pd.DataFrame(report).transpose().reset_index()\n",
    "\n",
    "    return df"
   ]
  },
  {
   "cell_type": "code",
   "execution_count": 12,
   "id": "5ae12092",
   "metadata": {},
   "outputs": [],
   "source": [
    "def prettify_dataframes(df_hmm):\n",
    "    def highlight_bg_correct_pred(s):\n",
    "        def get_color(value):\n",
    "            r = 235 - value/255\n",
    "            g = 240 \n",
    "            b = 230 - value/255\n",
    "            return 'rgb({r}, {g}, {b})'.format(r=r, g=g, b=b)\n",
    "\n",
    "        return ['background-color: {color}'.format(color = get_color(s[idx])) if idx == s._name else '' for idx in s.index]\n",
    "\n",
    "    def highlight_bg_wrong_pred(s):\n",
    "        def get_color(value):\n",
    "            r = 235\n",
    "            g = 160 - value/1\n",
    "            b = 160 - value/1\n",
    "            return 'rgb({r}, {g}, {b})'.format(r=r, g=g, b=b)\n",
    "\n",
    "        return ['background-color: {color}'.format(color = get_color(s[idx])) if idx != s._name else '' for idx in s.index]\n",
    "\n",
    "    return df_hmm.style.apply(highlight_bg_correct_pred, axis = 1)\\\n",
    "                        .apply(highlight_bg_wrong_pred, axis = 1)"
   ]
  },
  {
   "cell_type": "markdown",
   "id": "6576fabc",
   "metadata": {},
   "source": [
    "Inicialmente para cada palavra em nosso conjunto de validação iremos tentar prever sua classe lexical e adicionar esta ocorrência em um dataframe para a respectiva tag correta a posição da tag encontrada. Ou seja, todos as ocorrências na diagonal do df (pintado de verde) representam ocorrências corretas, o restante (pintado de vermelho) representa ocorrências onde nosso modelo errou. A análise foi realizada para as oito classes mais comuns e esta pode ser vista a seguir:"
   ]
  },
  {
   "cell_type": "markdown",
   "id": "9b055bbe",
   "metadata": {},
   "source": [
    "- **Validação da Baseline Class by Class**:"
   ]
  },
  {
   "cell_type": "code",
   "execution_count": 13,
   "id": "8f9a254a",
   "metadata": {},
   "outputs": [
    {
     "data": {
      "text/html": [
       "<style  type=\"text/css\" >\n",
       "#T_f21e6_row0_col0{\n",
       "            background-color:  rgb(202.39607843137256, 240, 197.39607843137256);\n",
       "        }#T_f21e6_row0_col1{\n",
       "            background-color:  rgb(235, -536.0, -536.0);\n",
       "        }#T_f21e6_row0_col2{\n",
       "            background-color:  rgb(235, -2739.0, -2739.0);\n",
       "        }#T_f21e6_row0_col3{\n",
       "            background-color:  rgb(235, -1682.0, -1682.0);\n",
       "        }#T_f21e6_row0_col4{\n",
       "            background-color:  rgb(235, -799.0, -799.0);\n",
       "        }#T_f21e6_row0_col5{\n",
       "            background-color:  rgb(235, -3639.0, -3639.0);\n",
       "        }#T_f21e6_row0_col6{\n",
       "            background-color:  rgb(235, -3617.0, -3617.0);\n",
       "        }#T_f21e6_row0_col7{\n",
       "            background-color:  rgb(235, -3815.0, -3815.0);\n",
       "        }#T_f21e6_row1_col0,#T_f21e6_row1_col2,#T_f21e6_row1_col3,#T_f21e6_row1_col4,#T_f21e6_row1_col5,#T_f21e6_row1_col6,#T_f21e6_row1_col7,#T_f21e6_row2_col0,#T_f21e6_row2_col1,#T_f21e6_row2_col3,#T_f21e6_row2_col4,#T_f21e6_row2_col5,#T_f21e6_row2_col6,#T_f21e6_row2_col7,#T_f21e6_row3_col0,#T_f21e6_row3_col1,#T_f21e6_row3_col2,#T_f21e6_row3_col4,#T_f21e6_row3_col5,#T_f21e6_row3_col6,#T_f21e6_row3_col7,#T_f21e6_row4_col0,#T_f21e6_row4_col1,#T_f21e6_row4_col2,#T_f21e6_row4_col3,#T_f21e6_row4_col5,#T_f21e6_row4_col6,#T_f21e6_row4_col7,#T_f21e6_row5_col0,#T_f21e6_row5_col1,#T_f21e6_row5_col2,#T_f21e6_row5_col3,#T_f21e6_row5_col4,#T_f21e6_row5_col6,#T_f21e6_row5_col7,#T_f21e6_row6_col0,#T_f21e6_row6_col1,#T_f21e6_row6_col2,#T_f21e6_row6_col3,#T_f21e6_row6_col4,#T_f21e6_row6_col5,#T_f21e6_row6_col7,#T_f21e6_row7_col0,#T_f21e6_row7_col1,#T_f21e6_row7_col2,#T_f21e6_row7_col3,#T_f21e6_row7_col4,#T_f21e6_row7_col5,#T_f21e6_row7_col6{\n",
       "            background-color:  rgb(235, 160.0, 160.0);\n",
       "        }#T_f21e6_row1_col1,#T_f21e6_row2_col2,#T_f21e6_row3_col3,#T_f21e6_row4_col4,#T_f21e6_row5_col5,#T_f21e6_row6_col6,#T_f21e6_row7_col7{\n",
       "            background-color:  rgb(235.0, 240, 230.0);\n",
       "        }</style><table id=\"T_f21e6_\" ><thead>    <tr>        <th class=\"blank level0\" ></th>        <th class=\"col_heading level0 col0\" >N</th>        <th class=\"col_heading level0 col1\" >NUM</th>        <th class=\"col_heading level0 col2\" >ART</th>        <th class=\"col_heading level0 col3\" >ADJ</th>        <th class=\"col_heading level0 col4\" >ADV</th>        <th class=\"col_heading level0 col5\" >NPROP</th>        <th class=\"col_heading level0 col6\" >PREP</th>        <th class=\"col_heading level0 col7\" >V</th>    </tr></thead><tbody>\n",
       "                <tr>\n",
       "                        <th id=\"T_f21e6_level0_row0\" class=\"row_heading level0 row0\" >N</th>\n",
       "                        <td id=\"T_f21e6_row0_col0\" class=\"data row0 col0\" >8314</td>\n",
       "                        <td id=\"T_f21e6_row0_col1\" class=\"data row0 col1\" >696</td>\n",
       "                        <td id=\"T_f21e6_row0_col2\" class=\"data row0 col2\" >2899</td>\n",
       "                        <td id=\"T_f21e6_row0_col3\" class=\"data row0 col3\" >1842</td>\n",
       "                        <td id=\"T_f21e6_row0_col4\" class=\"data row0 col4\" >959</td>\n",
       "                        <td id=\"T_f21e6_row0_col5\" class=\"data row0 col5\" >3799</td>\n",
       "                        <td id=\"T_f21e6_row0_col6\" class=\"data row0 col6\" >3777</td>\n",
       "                        <td id=\"T_f21e6_row0_col7\" class=\"data row0 col7\" >3975</td>\n",
       "            </tr>\n",
       "            <tr>\n",
       "                        <th id=\"T_f21e6_level0_row1\" class=\"row_heading level0 row1\" >NUM</th>\n",
       "                        <td id=\"T_f21e6_row1_col0\" class=\"data row1 col0\" >0</td>\n",
       "                        <td id=\"T_f21e6_row1_col1\" class=\"data row1 col1\" >0</td>\n",
       "                        <td id=\"T_f21e6_row1_col2\" class=\"data row1 col2\" >0</td>\n",
       "                        <td id=\"T_f21e6_row1_col3\" class=\"data row1 col3\" >0</td>\n",
       "                        <td id=\"T_f21e6_row1_col4\" class=\"data row1 col4\" >0</td>\n",
       "                        <td id=\"T_f21e6_row1_col5\" class=\"data row1 col5\" >0</td>\n",
       "                        <td id=\"T_f21e6_row1_col6\" class=\"data row1 col6\" >0</td>\n",
       "                        <td id=\"T_f21e6_row1_col7\" class=\"data row1 col7\" >0</td>\n",
       "            </tr>\n",
       "            <tr>\n",
       "                        <th id=\"T_f21e6_level0_row2\" class=\"row_heading level0 row2\" >ART</th>\n",
       "                        <td id=\"T_f21e6_row2_col0\" class=\"data row2 col0\" >0</td>\n",
       "                        <td id=\"T_f21e6_row2_col1\" class=\"data row2 col1\" >0</td>\n",
       "                        <td id=\"T_f21e6_row2_col2\" class=\"data row2 col2\" >0</td>\n",
       "                        <td id=\"T_f21e6_row2_col3\" class=\"data row2 col3\" >0</td>\n",
       "                        <td id=\"T_f21e6_row2_col4\" class=\"data row2 col4\" >0</td>\n",
       "                        <td id=\"T_f21e6_row2_col5\" class=\"data row2 col5\" >0</td>\n",
       "                        <td id=\"T_f21e6_row2_col6\" class=\"data row2 col6\" >0</td>\n",
       "                        <td id=\"T_f21e6_row2_col7\" class=\"data row2 col7\" >0</td>\n",
       "            </tr>\n",
       "            <tr>\n",
       "                        <th id=\"T_f21e6_level0_row3\" class=\"row_heading level0 row3\" >ADJ</th>\n",
       "                        <td id=\"T_f21e6_row3_col0\" class=\"data row3 col0\" >0</td>\n",
       "                        <td id=\"T_f21e6_row3_col1\" class=\"data row3 col1\" >0</td>\n",
       "                        <td id=\"T_f21e6_row3_col2\" class=\"data row3 col2\" >0</td>\n",
       "                        <td id=\"T_f21e6_row3_col3\" class=\"data row3 col3\" >0</td>\n",
       "                        <td id=\"T_f21e6_row3_col4\" class=\"data row3 col4\" >0</td>\n",
       "                        <td id=\"T_f21e6_row3_col5\" class=\"data row3 col5\" >0</td>\n",
       "                        <td id=\"T_f21e6_row3_col6\" class=\"data row3 col6\" >0</td>\n",
       "                        <td id=\"T_f21e6_row3_col7\" class=\"data row3 col7\" >0</td>\n",
       "            </tr>\n",
       "            <tr>\n",
       "                        <th id=\"T_f21e6_level0_row4\" class=\"row_heading level0 row4\" >ADV</th>\n",
       "                        <td id=\"T_f21e6_row4_col0\" class=\"data row4 col0\" >0</td>\n",
       "                        <td id=\"T_f21e6_row4_col1\" class=\"data row4 col1\" >0</td>\n",
       "                        <td id=\"T_f21e6_row4_col2\" class=\"data row4 col2\" >0</td>\n",
       "                        <td id=\"T_f21e6_row4_col3\" class=\"data row4 col3\" >0</td>\n",
       "                        <td id=\"T_f21e6_row4_col4\" class=\"data row4 col4\" >0</td>\n",
       "                        <td id=\"T_f21e6_row4_col5\" class=\"data row4 col5\" >0</td>\n",
       "                        <td id=\"T_f21e6_row4_col6\" class=\"data row4 col6\" >0</td>\n",
       "                        <td id=\"T_f21e6_row4_col7\" class=\"data row4 col7\" >0</td>\n",
       "            </tr>\n",
       "            <tr>\n",
       "                        <th id=\"T_f21e6_level0_row5\" class=\"row_heading level0 row5\" >NPROP</th>\n",
       "                        <td id=\"T_f21e6_row5_col0\" class=\"data row5 col0\" >0</td>\n",
       "                        <td id=\"T_f21e6_row5_col1\" class=\"data row5 col1\" >0</td>\n",
       "                        <td id=\"T_f21e6_row5_col2\" class=\"data row5 col2\" >0</td>\n",
       "                        <td id=\"T_f21e6_row5_col3\" class=\"data row5 col3\" >0</td>\n",
       "                        <td id=\"T_f21e6_row5_col4\" class=\"data row5 col4\" >0</td>\n",
       "                        <td id=\"T_f21e6_row5_col5\" class=\"data row5 col5\" >0</td>\n",
       "                        <td id=\"T_f21e6_row5_col6\" class=\"data row5 col6\" >0</td>\n",
       "                        <td id=\"T_f21e6_row5_col7\" class=\"data row5 col7\" >0</td>\n",
       "            </tr>\n",
       "            <tr>\n",
       "                        <th id=\"T_f21e6_level0_row6\" class=\"row_heading level0 row6\" >PREP</th>\n",
       "                        <td id=\"T_f21e6_row6_col0\" class=\"data row6 col0\" >0</td>\n",
       "                        <td id=\"T_f21e6_row6_col1\" class=\"data row6 col1\" >0</td>\n",
       "                        <td id=\"T_f21e6_row6_col2\" class=\"data row6 col2\" >0</td>\n",
       "                        <td id=\"T_f21e6_row6_col3\" class=\"data row6 col3\" >0</td>\n",
       "                        <td id=\"T_f21e6_row6_col4\" class=\"data row6 col4\" >0</td>\n",
       "                        <td id=\"T_f21e6_row6_col5\" class=\"data row6 col5\" >0</td>\n",
       "                        <td id=\"T_f21e6_row6_col6\" class=\"data row6 col6\" >0</td>\n",
       "                        <td id=\"T_f21e6_row6_col7\" class=\"data row6 col7\" >0</td>\n",
       "            </tr>\n",
       "            <tr>\n",
       "                        <th id=\"T_f21e6_level0_row7\" class=\"row_heading level0 row7\" >V</th>\n",
       "                        <td id=\"T_f21e6_row7_col0\" class=\"data row7 col0\" >0</td>\n",
       "                        <td id=\"T_f21e6_row7_col1\" class=\"data row7 col1\" >0</td>\n",
       "                        <td id=\"T_f21e6_row7_col2\" class=\"data row7 col2\" >0</td>\n",
       "                        <td id=\"T_f21e6_row7_col3\" class=\"data row7 col3\" >0</td>\n",
       "                        <td id=\"T_f21e6_row7_col4\" class=\"data row7 col4\" >0</td>\n",
       "                        <td id=\"T_f21e6_row7_col5\" class=\"data row7 col5\" >0</td>\n",
       "                        <td id=\"T_f21e6_row7_col6\" class=\"data row7 col6\" >0</td>\n",
       "                        <td id=\"T_f21e6_row7_col7\" class=\"data row7 col7\" >0</td>\n",
       "            </tr>\n",
       "    </tbody></table>"
      ],
      "text/plain": [
       "<pandas.io.formats.style.Styler at 0x7f52c9d06370>"
      ]
     },
     "execution_count": 13,
     "metadata": {},
     "output_type": "execute_result"
    }
   ],
   "source": [
    "df_base = generate_df_class_by_class(baseline, validation_sentences)\n",
    "prettify_dataframes(df_base)"
   ]
  },
  {
   "cell_type": "markdown",
   "id": "b69f147b",
   "metadata": {},
   "source": [
    "- **Validação Hidden Markov Model Class by Class**:"
   ]
  },
  {
   "cell_type": "code",
   "execution_count": 14,
   "id": "661b7bce",
   "metadata": {},
   "outputs": [
    {
     "data": {
      "text/html": [
       "<style  type=\"text/css\" >\n",
       "#T_632f7_row0_col0{\n",
       "            background-color:  rgb(203.38823529411764, 240, 198.38823529411764);\n",
       "        }#T_632f7_row0_col1{\n",
       "            background-color:  rgb(235, -86.0, -86.0);\n",
       "        }#T_632f7_row0_col2{\n",
       "            background-color:  rgb(235, -418.0, -418.0);\n",
       "        }#T_632f7_row0_col3{\n",
       "            background-color:  rgb(235, -479.0, -479.0);\n",
       "        }#T_632f7_row0_col4{\n",
       "            background-color:  rgb(235, -81.0, -81.0);\n",
       "        }#T_632f7_row0_col5{\n",
       "            background-color:  rgb(235, -1342.0, -1342.0);\n",
       "        }#T_632f7_row0_col6{\n",
       "            background-color:  rgb(235, -858.0, -858.0);\n",
       "        }#T_632f7_row0_col7{\n",
       "            background-color:  rgb(235, -740.0, -740.0);\n",
       "        }#T_632f7_row1_col0,#T_632f7_row5_col3{\n",
       "            background-color:  rgb(235, 135.0, 135.0);\n",
       "        }#T_632f7_row1_col1{\n",
       "            background-color:  rgb(233.3607843137255, 240, 228.3607843137255);\n",
       "        }#T_632f7_row1_col2,#T_632f7_row1_col3,#T_632f7_row1_col4,#T_632f7_row1_col6,#T_632f7_row1_col7,#T_632f7_row2_col3,#T_632f7_row2_col7,#T_632f7_row3_col1,#T_632f7_row3_col2,#T_632f7_row3_col7,#T_632f7_row4_col1,#T_632f7_row4_col2,#T_632f7_row4_col7,#T_632f7_row5_col4,#T_632f7_row6_col1,#T_632f7_row7_col1,#T_632f7_row7_col2{\n",
       "            background-color:  rgb(235, 160.0, 160.0);\n",
       "        }#T_632f7_row1_col5{\n",
       "            background-color:  rgb(235, 156.0, 156.0);\n",
       "        }#T_632f7_row2_col0,#T_632f7_row5_col1,#T_632f7_row5_col7,#T_632f7_row7_col3{\n",
       "            background-color:  rgb(235, 158.0, 158.0);\n",
       "        }#T_632f7_row2_col1{\n",
       "            background-color:  rgb(235, 132.0, 132.0);\n",
       "        }#T_632f7_row2_col2{\n",
       "            background-color:  rgb(226.01176470588234, 240, 221.01176470588234);\n",
       "        }#T_632f7_row2_col4,#T_632f7_row4_col5,#T_632f7_row5_col2,#T_632f7_row6_col7,#T_632f7_row7_col4,#T_632f7_row7_col6{\n",
       "            background-color:  rgb(235, 159.0, 159.0);\n",
       "        }#T_632f7_row2_col5{\n",
       "            background-color:  rgb(235, 145.0, 145.0);\n",
       "        }#T_632f7_row2_col6{\n",
       "            background-color:  rgb(235, 130.0, 130.0);\n",
       "        }#T_632f7_row3_col0{\n",
       "            background-color:  rgb(235, 87.0, 87.0);\n",
       "        }#T_632f7_row3_col3{\n",
       "            background-color:  rgb(230.4470588235294, 240, 225.4470588235294);\n",
       "        }#T_632f7_row3_col4,#T_632f7_row4_col3{\n",
       "            background-color:  rgb(235, 155.0, 155.0);\n",
       "        }#T_632f7_row3_col5{\n",
       "            background-color:  rgb(235, 93.0, 93.0);\n",
       "        }#T_632f7_row3_col6,#T_632f7_row4_col0{\n",
       "            background-color:  rgb(235, 157.0, 157.0);\n",
       "        }#T_632f7_row4_col4{\n",
       "            background-color:  rgb(232.53725490196078, 240, 227.53725490196078);\n",
       "        }#T_632f7_row4_col6{\n",
       "            background-color:  rgb(235, 121.0, 121.0);\n",
       "        }#T_632f7_row5_col0{\n",
       "            background-color:  rgb(235, 43.0, 43.0);\n",
       "        }#T_632f7_row5_col5{\n",
       "            background-color:  rgb(226.89803921568628, 240, 221.89803921568628);\n",
       "        }#T_632f7_row5_col6{\n",
       "            background-color:  rgb(235, 141.0, 141.0);\n",
       "        }#T_632f7_row6_col0,#T_632f7_row6_col3{\n",
       "            background-color:  rgb(235, 154.0, 154.0);\n",
       "        }#T_632f7_row6_col2{\n",
       "            background-color:  rgb(235, 137.0, 137.0);\n",
       "        }#T_632f7_row6_col4{\n",
       "            background-color:  rgb(235, 124.0, 124.0);\n",
       "        }#T_632f7_row6_col5{\n",
       "            background-color:  rgb(235, 89.0, 89.0);\n",
       "        }#T_632f7_row6_col6{\n",
       "            background-color:  rgb(224.6627450980392, 240, 219.6627450980392);\n",
       "        }#T_632f7_row7_col0{\n",
       "            background-color:  rgb(235, 146.0, 146.0);\n",
       "        }#T_632f7_row7_col5{\n",
       "            background-color:  rgb(235, 153.0, 153.0);\n",
       "        }#T_632f7_row7_col7{\n",
       "            background-color:  rgb(222.9607843137255, 240, 217.9607843137255);\n",
       "        }</style><table id=\"T_632f7_\" ><thead>    <tr>        <th class=\"blank level0\" ></th>        <th class=\"col_heading level0 col0\" >N</th>        <th class=\"col_heading level0 col1\" >NUM</th>        <th class=\"col_heading level0 col2\" >ART</th>        <th class=\"col_heading level0 col3\" >ADJ</th>        <th class=\"col_heading level0 col4\" >ADV</th>        <th class=\"col_heading level0 col5\" >NPROP</th>        <th class=\"col_heading level0 col6\" >PREP</th>        <th class=\"col_heading level0 col7\" >V</th>    </tr></thead><tbody>\n",
       "                <tr>\n",
       "                        <th id=\"T_632f7_level0_row0\" class=\"row_heading level0 row0\" >N</th>\n",
       "                        <td id=\"T_632f7_row0_col0\" class=\"data row0 col0\" >8061</td>\n",
       "                        <td id=\"T_632f7_row0_col1\" class=\"data row0 col1\" >246</td>\n",
       "                        <td id=\"T_632f7_row0_col2\" class=\"data row0 col2\" >578</td>\n",
       "                        <td id=\"T_632f7_row0_col3\" class=\"data row0 col3\" >639</td>\n",
       "                        <td id=\"T_632f7_row0_col4\" class=\"data row0 col4\" >241</td>\n",
       "                        <td id=\"T_632f7_row0_col5\" class=\"data row0 col5\" >1502</td>\n",
       "                        <td id=\"T_632f7_row0_col6\" class=\"data row0 col6\" >1018</td>\n",
       "                        <td id=\"T_632f7_row0_col7\" class=\"data row0 col7\" >900</td>\n",
       "            </tr>\n",
       "            <tr>\n",
       "                        <th id=\"T_632f7_level0_row1\" class=\"row_heading level0 row1\" >NUM</th>\n",
       "                        <td id=\"T_632f7_row1_col0\" class=\"data row1 col0\" >25</td>\n",
       "                        <td id=\"T_632f7_row1_col1\" class=\"data row1 col1\" >418</td>\n",
       "                        <td id=\"T_632f7_row1_col2\" class=\"data row1 col2\" >0</td>\n",
       "                        <td id=\"T_632f7_row1_col3\" class=\"data row1 col3\" >0</td>\n",
       "                        <td id=\"T_632f7_row1_col4\" class=\"data row1 col4\" >0</td>\n",
       "                        <td id=\"T_632f7_row1_col5\" class=\"data row1 col5\" >4</td>\n",
       "                        <td id=\"T_632f7_row1_col6\" class=\"data row1 col6\" >0</td>\n",
       "                        <td id=\"T_632f7_row1_col7\" class=\"data row1 col7\" >0</td>\n",
       "            </tr>\n",
       "            <tr>\n",
       "                        <th id=\"T_632f7_level0_row2\" class=\"row_heading level0 row2\" >ART</th>\n",
       "                        <td id=\"T_632f7_row2_col0\" class=\"data row2 col0\" >2</td>\n",
       "                        <td id=\"T_632f7_row2_col1\" class=\"data row2 col1\" >28</td>\n",
       "                        <td id=\"T_632f7_row2_col2\" class=\"data row2 col2\" >2292</td>\n",
       "                        <td id=\"T_632f7_row2_col3\" class=\"data row2 col3\" >0</td>\n",
       "                        <td id=\"T_632f7_row2_col4\" class=\"data row2 col4\" >1</td>\n",
       "                        <td id=\"T_632f7_row2_col5\" class=\"data row2 col5\" >15</td>\n",
       "                        <td id=\"T_632f7_row2_col6\" class=\"data row2 col6\" >30</td>\n",
       "                        <td id=\"T_632f7_row2_col7\" class=\"data row2 col7\" >0</td>\n",
       "            </tr>\n",
       "            <tr>\n",
       "                        <th id=\"T_632f7_level0_row3\" class=\"row_heading level0 row3\" >ADJ</th>\n",
       "                        <td id=\"T_632f7_row3_col0\" class=\"data row3 col0\" >73</td>\n",
       "                        <td id=\"T_632f7_row3_col1\" class=\"data row3 col1\" >0</td>\n",
       "                        <td id=\"T_632f7_row3_col2\" class=\"data row3 col2\" >0</td>\n",
       "                        <td id=\"T_632f7_row3_col3\" class=\"data row3 col3\" >1161</td>\n",
       "                        <td id=\"T_632f7_row3_col4\" class=\"data row3 col4\" >5</td>\n",
       "                        <td id=\"T_632f7_row3_col5\" class=\"data row3 col5\" >67</td>\n",
       "                        <td id=\"T_632f7_row3_col6\" class=\"data row3 col6\" >3</td>\n",
       "                        <td id=\"T_632f7_row3_col7\" class=\"data row3 col7\" >0</td>\n",
       "            </tr>\n",
       "            <tr>\n",
       "                        <th id=\"T_632f7_level0_row4\" class=\"row_heading level0 row4\" >ADV</th>\n",
       "                        <td id=\"T_632f7_row4_col0\" class=\"data row4 col0\" >3</td>\n",
       "                        <td id=\"T_632f7_row4_col1\" class=\"data row4 col1\" >0</td>\n",
       "                        <td id=\"T_632f7_row4_col2\" class=\"data row4 col2\" >0</td>\n",
       "                        <td id=\"T_632f7_row4_col3\" class=\"data row4 col3\" >5</td>\n",
       "                        <td id=\"T_632f7_row4_col4\" class=\"data row4 col4\" >628</td>\n",
       "                        <td id=\"T_632f7_row4_col5\" class=\"data row4 col5\" >1</td>\n",
       "                        <td id=\"T_632f7_row4_col6\" class=\"data row4 col6\" >39</td>\n",
       "                        <td id=\"T_632f7_row4_col7\" class=\"data row4 col7\" >0</td>\n",
       "            </tr>\n",
       "            <tr>\n",
       "                        <th id=\"T_632f7_level0_row5\" class=\"row_heading level0 row5\" >NPROP</th>\n",
       "                        <td id=\"T_632f7_row5_col0\" class=\"data row5 col0\" >117</td>\n",
       "                        <td id=\"T_632f7_row5_col1\" class=\"data row5 col1\" >2</td>\n",
       "                        <td id=\"T_632f7_row5_col2\" class=\"data row5 col2\" >1</td>\n",
       "                        <td id=\"T_632f7_row5_col3\" class=\"data row5 col3\" >25</td>\n",
       "                        <td id=\"T_632f7_row5_col4\" class=\"data row5 col4\" >0</td>\n",
       "                        <td id=\"T_632f7_row5_col5\" class=\"data row5 col5\" >2066</td>\n",
       "                        <td id=\"T_632f7_row5_col6\" class=\"data row5 col6\" >19</td>\n",
       "                        <td id=\"T_632f7_row5_col7\" class=\"data row5 col7\" >2</td>\n",
       "            </tr>\n",
       "            <tr>\n",
       "                        <th id=\"T_632f7_level0_row6\" class=\"row_heading level0 row6\" >PREP</th>\n",
       "                        <td id=\"T_632f7_row6_col0\" class=\"data row6 col0\" >6</td>\n",
       "                        <td id=\"T_632f7_row6_col1\" class=\"data row6 col1\" >0</td>\n",
       "                        <td id=\"T_632f7_row6_col2\" class=\"data row6 col2\" >23</td>\n",
       "                        <td id=\"T_632f7_row6_col3\" class=\"data row6 col3\" >6</td>\n",
       "                        <td id=\"T_632f7_row6_col4\" class=\"data row6 col4\" >36</td>\n",
       "                        <td id=\"T_632f7_row6_col5\" class=\"data row6 col5\" >71</td>\n",
       "                        <td id=\"T_632f7_row6_col6\" class=\"data row6 col6\" >2636</td>\n",
       "                        <td id=\"T_632f7_row6_col7\" class=\"data row6 col7\" >1</td>\n",
       "            </tr>\n",
       "            <tr>\n",
       "                        <th id=\"T_632f7_level0_row7\" class=\"row_heading level0 row7\" >V</th>\n",
       "                        <td id=\"T_632f7_row7_col0\" class=\"data row7 col0\" >14</td>\n",
       "                        <td id=\"T_632f7_row7_col1\" class=\"data row7 col1\" >0</td>\n",
       "                        <td id=\"T_632f7_row7_col2\" class=\"data row7 col2\" >0</td>\n",
       "                        <td id=\"T_632f7_row7_col3\" class=\"data row7 col3\" >2</td>\n",
       "                        <td id=\"T_632f7_row7_col4\" class=\"data row7 col4\" >1</td>\n",
       "                        <td id=\"T_632f7_row7_col5\" class=\"data row7 col5\" >7</td>\n",
       "                        <td id=\"T_632f7_row7_col6\" class=\"data row7 col6\" >1</td>\n",
       "                        <td id=\"T_632f7_row7_col7\" class=\"data row7 col7\" >3070</td>\n",
       "            </tr>\n",
       "    </tbody></table>"
      ],
      "text/plain": [
       "<pandas.io.formats.style.Styler at 0x7f52b64f82b0>"
      ]
     },
     "execution_count": 14,
     "metadata": {},
     "output_type": "execute_result"
    }
   ],
   "source": [
    "df_hmm = generate_df_class_by_class(model_hmm, validation_sentences)\n",
    "prettify_dataframes(df_hmm)"
   ]
  },
  {
   "cell_type": "markdown",
   "id": "25608050",
   "metadata": {},
   "source": [
    "Por meio da biblioteca *scikit-learn* também geraremos um report com métricas como precisão, f1-score e suporte. A análise foi realizada para as oito classes mais comuns e esta pode ser vista a seguir:"
   ]
  },
  {
   "cell_type": "markdown",
   "id": "c4cf0b63",
   "metadata": {},
   "source": [
    "- **Validação da Baseline Métricas com Resultado**:"
   ]
  },
  {
   "cell_type": "code",
   "execution_count": 15,
   "id": "3c49065d",
   "metadata": {},
   "outputs": [
    {
     "data": {
      "text/html": [
       "<div>\n",
       "<style scoped>\n",
       "    .dataframe tbody tr th:only-of-type {\n",
       "        vertical-align: middle;\n",
       "    }\n",
       "\n",
       "    .dataframe tbody tr th {\n",
       "        vertical-align: top;\n",
       "    }\n",
       "\n",
       "    .dataframe thead th {\n",
       "        text-align: right;\n",
       "    }\n",
       "</style>\n",
       "<table border=\"1\" class=\"dataframe\">\n",
       "  <thead>\n",
       "    <tr style=\"text-align: right;\">\n",
       "      <th></th>\n",
       "      <th>index</th>\n",
       "      <th>precision</th>\n",
       "      <th>recall</th>\n",
       "      <th>f1-score</th>\n",
       "      <th>support</th>\n",
       "    </tr>\n",
       "  </thead>\n",
       "  <tbody>\n",
       "    <tr>\n",
       "      <th>0</th>\n",
       "      <td>ADJ</td>\n",
       "      <td>0.000000</td>\n",
       "      <td>0.0</td>\n",
       "      <td>0.000000</td>\n",
       "      <td>1842.0</td>\n",
       "    </tr>\n",
       "    <tr>\n",
       "      <th>1</th>\n",
       "      <td>ADV</td>\n",
       "      <td>0.000000</td>\n",
       "      <td>0.0</td>\n",
       "      <td>0.000000</td>\n",
       "      <td>959.0</td>\n",
       "    </tr>\n",
       "    <tr>\n",
       "      <th>3</th>\n",
       "      <td>ART</td>\n",
       "      <td>0.000000</td>\n",
       "      <td>0.0</td>\n",
       "      <td>0.000000</td>\n",
       "      <td>2899.0</td>\n",
       "    </tr>\n",
       "    <tr>\n",
       "      <th>8</th>\n",
       "      <td>N</td>\n",
       "      <td>0.213832</td>\n",
       "      <td>1.0</td>\n",
       "      <td>0.352325</td>\n",
       "      <td>8314.0</td>\n",
       "    </tr>\n",
       "    <tr>\n",
       "      <th>9</th>\n",
       "      <td>NPROP</td>\n",
       "      <td>0.000000</td>\n",
       "      <td>0.0</td>\n",
       "      <td>0.000000</td>\n",
       "      <td>3799.0</td>\n",
       "    </tr>\n",
       "    <tr>\n",
       "      <th>10</th>\n",
       "      <td>NUM</td>\n",
       "      <td>0.000000</td>\n",
       "      <td>0.0</td>\n",
       "      <td>0.000000</td>\n",
       "      <td>696.0</td>\n",
       "    </tr>\n",
       "    <tr>\n",
       "      <th>13</th>\n",
       "      <td>PREP</td>\n",
       "      <td>0.000000</td>\n",
       "      <td>0.0</td>\n",
       "      <td>0.000000</td>\n",
       "      <td>3777.0</td>\n",
       "    </tr>\n",
       "    <tr>\n",
       "      <th>25</th>\n",
       "      <td>V</td>\n",
       "      <td>0.000000</td>\n",
       "      <td>0.0</td>\n",
       "      <td>0.000000</td>\n",
       "      <td>3975.0</td>\n",
       "    </tr>\n",
       "  </tbody>\n",
       "</table>\n",
       "</div>"
      ],
      "text/plain": [
       "    index  precision  recall  f1-score  support\n",
       "0     ADJ   0.000000     0.0  0.000000   1842.0\n",
       "1     ADV   0.000000     0.0  0.000000    959.0\n",
       "3     ART   0.000000     0.0  0.000000   2899.0\n",
       "8       N   0.213832     1.0  0.352325   8314.0\n",
       "9   NPROP   0.000000     0.0  0.000000   3799.0\n",
       "10    NUM   0.000000     0.0  0.000000    696.0\n",
       "13   PREP   0.000000     0.0  0.000000   3777.0\n",
       "25      V   0.000000     0.0  0.000000   3975.0"
      ]
     },
     "execution_count": 15,
     "metadata": {},
     "output_type": "execute_result"
    }
   ],
   "source": [
    "df_base_results = generate_df_evaluate_by_class(baseline, validation_sentences)\n",
    "df_base_results.loc[(df_base_results['index'].isin(columns))]"
   ]
  },
  {
   "cell_type": "markdown",
   "id": "beb26c97",
   "metadata": {},
   "source": [
    "- **Validação da Hidden Markov Model Métricas com Resultado**:"
   ]
  },
  {
   "cell_type": "code",
   "execution_count": 16,
   "id": "55af35e3",
   "metadata": {},
   "outputs": [
    {
     "data": {
      "text/html": [
       "<div>\n",
       "<style scoped>\n",
       "    .dataframe tbody tr th:only-of-type {\n",
       "        vertical-align: middle;\n",
       "    }\n",
       "\n",
       "    .dataframe tbody tr th {\n",
       "        vertical-align: top;\n",
       "    }\n",
       "\n",
       "    .dataframe thead th {\n",
       "        text-align: right;\n",
       "    }\n",
       "</style>\n",
       "<table border=\"1\" class=\"dataframe\">\n",
       "  <thead>\n",
       "    <tr style=\"text-align: right;\">\n",
       "      <th></th>\n",
       "      <th>index</th>\n",
       "      <th>precision</th>\n",
       "      <th>recall</th>\n",
       "      <th>f1-score</th>\n",
       "      <th>support</th>\n",
       "    </tr>\n",
       "  </thead>\n",
       "  <tbody>\n",
       "    <tr>\n",
       "      <th>0</th>\n",
       "      <td>ADJ</td>\n",
       "      <td>0.879545</td>\n",
       "      <td>0.630293</td>\n",
       "      <td>0.734345</td>\n",
       "      <td>1842.0</td>\n",
       "    </tr>\n",
       "    <tr>\n",
       "      <th>1</th>\n",
       "      <td>ADV</td>\n",
       "      <td>0.872222</td>\n",
       "      <td>0.654849</td>\n",
       "      <td>0.748064</td>\n",
       "      <td>959.0</td>\n",
       "    </tr>\n",
       "    <tr>\n",
       "      <th>3</th>\n",
       "      <td>ART</td>\n",
       "      <td>0.961813</td>\n",
       "      <td>0.790617</td>\n",
       "      <td>0.867853</td>\n",
       "      <td>2899.0</td>\n",
       "    </tr>\n",
       "    <tr>\n",
       "      <th>8</th>\n",
       "      <td>N</td>\n",
       "      <td>0.472952</td>\n",
       "      <td>0.969569</td>\n",
       "      <td>0.635776</td>\n",
       "      <td>8314.0</td>\n",
       "    </tr>\n",
       "    <tr>\n",
       "      <th>9</th>\n",
       "      <td>NPROP</td>\n",
       "      <td>0.916593</td>\n",
       "      <td>0.543827</td>\n",
       "      <td>0.682637</td>\n",
       "      <td>3799.0</td>\n",
       "    </tr>\n",
       "    <tr>\n",
       "      <th>10</th>\n",
       "      <td>NUM</td>\n",
       "      <td>0.935123</td>\n",
       "      <td>0.600575</td>\n",
       "      <td>0.731409</td>\n",
       "      <td>696.0</td>\n",
       "    </tr>\n",
       "    <tr>\n",
       "      <th>13</th>\n",
       "      <td>PREP</td>\n",
       "      <td>0.936412</td>\n",
       "      <td>0.697908</td>\n",
       "      <td>0.799757</td>\n",
       "      <td>3777.0</td>\n",
       "    </tr>\n",
       "    <tr>\n",
       "      <th>25</th>\n",
       "      <td>V</td>\n",
       "      <td>0.990962</td>\n",
       "      <td>0.772327</td>\n",
       "      <td>0.868090</td>\n",
       "      <td>3975.0</td>\n",
       "    </tr>\n",
       "  </tbody>\n",
       "</table>\n",
       "</div>"
      ],
      "text/plain": [
       "    index  precision    recall  f1-score  support\n",
       "0     ADJ   0.879545  0.630293  0.734345   1842.0\n",
       "1     ADV   0.872222  0.654849  0.748064    959.0\n",
       "3     ART   0.961813  0.790617  0.867853   2899.0\n",
       "8       N   0.472952  0.969569  0.635776   8314.0\n",
       "9   NPROP   0.916593  0.543827  0.682637   3799.0\n",
       "10    NUM   0.935123  0.600575  0.731409    696.0\n",
       "13   PREP   0.936412  0.697908  0.799757   3777.0\n",
       "25      V   0.990962  0.772327  0.868090   3975.0"
      ]
     },
     "execution_count": 16,
     "metadata": {},
     "output_type": "execute_result"
    }
   ],
   "source": [
    "df_hmm_results = generate_df_evaluate_by_class(model_hmm, validation_sentences)\n",
    "df_hmm_results.loc[(df_hmm_results['index'].isin(columns))]"
   ]
  },
  {
   "cell_type": "markdown",
   "id": "56f7c102",
   "metadata": {},
   "source": [
    "## Conclusão\n",
    "\n",
    "Para o modelo **Hidden Markov Model** foi possível observar uma maior precisão para as classes de verbo, preposição, numeral e nomes próprios. É também interessante ressaltar a baixa precisão para nomes, múltiplas palavras que não tinham essa classe foram classificadas assim erroneamente. Também é interessante ressaltar a alta quantidade de falsos positivos para nomes e nomes próprios que foram classificados de maneira errada como adjetivos e preposições. Artigos e Preposições também foram confundidos de ambos os modos. "
   ]
  },
  {
   "cell_type": "code",
   "execution_count": null,
   "id": "c323301b",
   "metadata": {},
   "outputs": [],
   "source": []
  }
 ],
 "metadata": {
  "kernelspec": {
   "display_name": "Python 3 (ipykernel)",
   "language": "python",
   "name": "python3"
  },
  "language_info": {
   "codemirror_mode": {
    "name": "ipython",
    "version": 3
   },
   "file_extension": ".py",
   "mimetype": "text/x-python",
   "name": "python",
   "nbconvert_exporter": "python",
   "pygments_lexer": "ipython3",
   "version": "3.8.10"
  }
 },
 "nbformat": 4,
 "nbformat_minor": 5
}
