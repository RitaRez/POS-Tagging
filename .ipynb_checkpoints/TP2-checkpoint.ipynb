{
 "cells": [
  {
   "cell_type": "markdown",
   "metadata": {
    "id": "qAWdlRXhPkg0"
   },
   "source": [
    "#  Part of Speech\n",
    "\n",
    "Estudante: Cinthia Mikaela de Souza\n",
    "\n",
    "O objetivo desse trabalho é treinar e validar um modelo de  *Part of Speech* (POS) para a lingua portuguesa, utilizando o conjunto de dados Mac-Morpho"
   ]
  },
  {
   "cell_type": "code",
   "execution_count": 1,
   "metadata": {
    "ExecuteTime": {
     "end_time": "2021-03-15T20:59:09.386860Z",
     "start_time": "2021-03-15T20:57:44.858662Z"
    },
    "colab": {
     "base_uri": "https://localhost:8080/"
    },
    "id": "Fcagah_ZOcV3",
    "outputId": "cd937a90-0789-4636-bf30-a4bcd86fea7a"
   },
   "outputs": [
    {
     "name": "stderr",
     "output_type": "stream",
     "text": [
      "[nltk_data] Downloading package mac_morpho to\n",
      "[nltk_data]     /home/cinthia/nltk_data...\n",
      "[nltk_data]   Package mac_morpho is already up-to-date!\n",
      "[nltk_data] Downloading package averaged_perceptron_tagger to\n",
      "[nltk_data]     /home/cinthia/nltk_data...\n",
      "[nltk_data]   Package averaged_perceptron_tagger is already up-to-\n",
      "[nltk_data]       date!\n"
     ]
    },
    {
     "data": {
      "text/plain": [
       "True"
      ]
     },
     "execution_count": 1,
     "metadata": {},
     "output_type": "execute_result"
    }
   ],
   "source": [
    "import spacy\n",
    "import nltk\n",
    "import random\n",
    "from nltk.tag.sequential import ClassifierBasedPOSTagger\n",
    "import pandas as pd\n",
    "import numpy as np\n",
    "from nltk.tag import hmm\n",
    "from sklearn.metrics import classification_report\n",
    "from collections import Counter\n",
    "\n",
    "import warnings\n",
    "warnings.filterwarnings(\"ignore\")\n",
    "\n",
    "nltk.download('mac_morpho')\n",
    "nltk.download('averaged_perceptron_tagger')"
   ]
  },
  {
   "cell_type": "markdown",
   "metadata": {
    "id": "BvmUUZscQRjZ"
   },
   "source": [
    "A **primeira etapa** realizada foi a preparação da base de dados. A base de dados do Mac-Morpho contém 51397 sentenças tageadas em portugês. Para realizar os experimentos, a base de dados foi dividida em treinamento e testes com 80% e 20% dos dados, respectivamente."
   ]
  },
  {
   "cell_type": "code",
   "execution_count": 2,
   "metadata": {
    "ExecuteTime": {
     "end_time": "2021-03-15T20:59:09.410548Z",
     "start_time": "2021-03-15T20:59:09.393699Z"
    },
    "colab": {
     "base_uri": "https://localhost:8080/"
    },
    "id": "l9QjJk4QULod",
    "outputId": "e09a1171-03e4-4cce-a233-cc5fcbb5151f"
   },
   "outputs": [
    {
     "data": {
      "text/plain": [
       "[[('Jersei', 'N'),\n",
       "  ('atinge', 'V'),\n",
       "  ('média', 'N'),\n",
       "  ('de', 'PREP'),\n",
       "  ('Cr$', 'CUR'),\n",
       "  ('1,4', 'NUM'),\n",
       "  ('milhão', 'N'),\n",
       "  ('em', 'PREP|+'),\n",
       "  ('a', 'ART'),\n",
       "  ('venda', 'N'),\n",
       "  ('de', 'PREP|+'),\n",
       "  ('a', 'ART'),\n",
       "  ('Pinhal', 'NPROP'),\n",
       "  ('em', 'PREP'),\n",
       "  ('São', 'NPROP'),\n",
       "  ('Paulo', 'NPROP')]]"
      ]
     },
     "execution_count": 2,
     "metadata": {},
     "output_type": "execute_result"
    }
   ],
   "source": [
    "sentences = nltk.corpus.mac_morpho.tagged_sents()\n",
    "sentences[:1]"
   ]
  },
  {
   "cell_type": "code",
   "execution_count": 3,
   "metadata": {
    "ExecuteTime": {
     "end_time": "2021-03-15T20:59:18.221859Z",
     "start_time": "2021-03-15T20:59:09.413200Z"
    }
   },
   "outputs": [],
   "source": [
    "sentences = [[ (word.lower(), tag) for word, tag in sentence]for sentence in sentences]"
   ]
  },
  {
   "cell_type": "code",
   "execution_count": 4,
   "metadata": {
    "ExecuteTime": {
     "end_time": "2021-03-15T20:59:18.226050Z",
     "start_time": "2021-03-15T20:59:18.223906Z"
    },
    "id": "Us9QtF7BQ5i1"
   },
   "outputs": [],
   "source": [
    "n = round(len(sentences)*0.8)"
   ]
  },
  {
   "cell_type": "code",
   "execution_count": 5,
   "metadata": {
    "ExecuteTime": {
     "end_time": "2021-03-15T20:59:18.608930Z",
     "start_time": "2021-03-15T20:59:18.227561Z"
    },
    "id": "j19qe0IwSiKN"
   },
   "outputs": [],
   "source": [
    "train = sentences[:n]\n",
    "test = sentences[n:]"
   ]
  },
  {
   "cell_type": "code",
   "execution_count": 6,
   "metadata": {
    "ExecuteTime": {
     "end_time": "2021-03-15T20:59:18.718077Z",
     "start_time": "2021-03-15T20:59:18.613201Z"
    },
    "colab": {
     "base_uri": "https://localhost:8080/"
    },
    "id": "qHqd_dxsCNxp",
    "outputId": "fd165b44-9772-4b9f-834a-a8875f3fe2c0"
   },
   "outputs": [
    {
     "name": "stdout",
     "output_type": "stream",
     "text": [
      "Número de sentenças na base de treinamento: 41118\n",
      "Número de sentenças na base de test: 10279\n"
     ]
    }
   ],
   "source": [
    "print(\"Número de sentenças na base de treinamento: {}\".format(len(train)))\n",
    "print(\"Número de sentenças na base de test: {}\".format(len(test)))"
   ]
  },
  {
   "cell_type": "markdown",
   "metadata": {
    "ExecuteTime": {
     "end_time": "2021-03-14T23:17:51.905591Z",
     "start_time": "2021-03-14T23:16:03.238Z"
    }
   },
   "source": [
    "# Treinamento e validação"
   ]
  },
  {
   "cell_type": "markdown",
   "metadata": {
    "id": "LApGnlz3StTw"
   },
   "source": [
    "Após, a separação da base de dados, iniciou-se a etapa de **treinamento do modelo**. . Existem diferentes modos de realizar o treinamento de um modelo de POS, como:\n",
    "\n",
    "*   **DefaulTagger:** comumente utilizado como baseline, atribui uma tag especifica a todos os dados;\n",
    "*   **AffixTagger:** utiliza um sufixo ou prefixo de tamanho fixo para identificar a sua classe;\n",
    "*   **UnigramTagger:** realiza a classificação com base em uma única palavra; \n",
    "*   **BigramTagger:** realiza a classificação com base na tag  da palavra anterior e na palavra atual;\n",
    "*   **TigramTagger:** realiza a classificação com base na tag das duas palavras anteriores e na palavra atual;\n",
    "*   **BrillTagger:** classificador baseado em regras;\n",
    "*   **Hidden Markov Model:** Modelo que utiliza a teoria dos modelos Hidden Markov.  \n",
    "\n",
    "Todos os modos de treinamento supracitados foram utilizados testados e validadados nesse trabalho. A seguir, são apresentados os processos de treinamento e validação.\n",
    "\n",
    "\n"
   ]
  },
  {
   "cell_type": "markdown",
   "metadata": {
    "id": "s_pMXTZSX4MD"
   },
   "source": [
    "## Baseline"
   ]
  },
  {
   "cell_type": "code",
   "execution_count": 8,
   "metadata": {
    "ExecuteTime": {
     "end_time": "2021-03-15T20:59:19.473681Z",
     "start_time": "2021-03-15T20:59:19.047363Z"
    },
    "colab": {
     "base_uri": "https://localhost:8080/"
    },
    "id": "POXcjOtBX6W3",
    "outputId": "c78f57b3-995a-4bb8-d3ac-931889b51086"
   },
   "outputs": [
    {
     "data": {
      "text/plain": [
       "0.19676870814476996"
      ]
     },
     "execution_count": 8,
     "metadata": {},
     "output_type": "execute_result"
    }
   ],
   "source": [
    "baseline = nltk.DefaultTagger('N')\n",
    "baseline.evaluate(test)"
   ]
  },
  {
   "cell_type": "markdown",
   "metadata": {
    "id": "OHo0A9LGX-Ja"
   },
   "source": [
    "## AffixTagger"
   ]
  },
  {
   "cell_type": "markdown",
   "metadata": {
    "id": "hr7GpkCgIwoS"
   },
   "source": [
    "Para o treinamento utilizando o AffixTagger, foram utilizados Affix Length com tamanhos variando entre -2 e -12. A seguir, são apresentados os resultados obtidos. Todos os modelos utilizaram como backoff o modelo anterior. O parâmetro backoff deve receber outro tagger que se o modelo atual não souber a classificação da palavra ele consulta o tagger explicitado no parâmetro backoff. Inicialmente, o parâmtero backoff é o baseline. Assim, em todos os casos todas as palavras terão sempre uma classficação."
   ]
  },
  {
   "cell_type": "code",
   "execution_count": 9,
   "metadata": {
    "ExecuteTime": {
     "end_time": "2021-03-15T20:59:28.525764Z",
     "start_time": "2021-03-15T20:59:19.476393Z"
    },
    "id": "wqJLM7S4URqF"
   },
   "outputs": [],
   "source": [
    "model_1 = nltk.AffixTagger(train, affix_length=-2, backoff=baseline)\n",
    "model_2 = nltk.AffixTagger(train, affix_length=-3, backoff=model_1)\n",
    "model_3 = nltk.AffixTagger(train, affix_length=-4, backoff=model_2)\n",
    "model_4 = nltk.AffixTagger(train, affix_length=-5, backoff=model_3)\n",
    "model_5 = nltk.AffixTagger(train, affix_length=-6, backoff=model_4)\n",
    "model_6 = nltk.AffixTagger(train, affix_length=-7, backoff=model_5)\n",
    "model_7 = nltk.AffixTagger(train, affix_length=-8, backoff=model_6)\n",
    "model_8 = nltk.AffixTagger(train, affix_length=-9, backoff=model_7)\n",
    "model_9 = nltk.AffixTagger(train, affix_length=-10, backoff=model_8)\n",
    "model_10 = nltk.AffixTagger(train, affix_length=-11, backoff=model_9)\n",
    "model_11 = nltk.AffixTagger(train, affix_length=-12, backoff=model_10)"
   ]
  },
  {
   "cell_type": "code",
   "execution_count": 10,
   "metadata": {
    "ExecuteTime": {
     "end_time": "2021-03-15T20:59:35.809571Z",
     "start_time": "2021-03-15T20:59:28.527055Z"
    },
    "id": "fKh42TpDYzPZ"
   },
   "outputs": [],
   "source": [
    "acc_affixtagger = []\n",
    "\n",
    "acc_affixtagger.append(model_1.evaluate(test) * 100)\n",
    "acc_affixtagger.append(model_2.evaluate(test) * 100)\n",
    "acc_affixtagger.append(model_3.evaluate(test) * 100)\n",
    "acc_affixtagger.append(model_4.evaluate(test) * 100)\n",
    "acc_affixtagger.append(model_5.evaluate(test) * 100)\n",
    "acc_affixtagger.append(model_6.evaluate(test) * 100)\n",
    "acc_affixtagger.append(model_7.evaluate(test) * 100)\n",
    "acc_affixtagger.append(model_8.evaluate(test) * 100)\n",
    "acc_affixtagger.append(model_9.evaluate(test) * 100)\n",
    "acc_affixtagger.append(model_10.evaluate(test) * 100)\n",
    "acc_affixtagger.append(model_11.evaluate(test) * 100)"
   ]
  },
  {
   "cell_type": "code",
   "execution_count": 11,
   "metadata": {
    "ExecuteTime": {
     "end_time": "2021-03-15T20:59:35.823363Z",
     "start_time": "2021-03-15T20:59:35.811685Z"
    },
    "colab": {
     "base_uri": "https://localhost:8080/",
     "height": 390
    },
    "id": "uo7oeh2Sco5r",
    "outputId": "192bcf01-50ff-48b1-9b97-511d7e8cddcb"
   },
   "outputs": [
    {
     "data": {
      "text/html": [
       "<div>\n",
       "<style scoped>\n",
       "    .dataframe tbody tr th:only-of-type {\n",
       "        vertical-align: middle;\n",
       "    }\n",
       "\n",
       "    .dataframe tbody tr th {\n",
       "        vertical-align: top;\n",
       "    }\n",
       "\n",
       "    .dataframe thead th {\n",
       "        text-align: right;\n",
       "    }\n",
       "</style>\n",
       "<table border=\"1\" class=\"dataframe\">\n",
       "  <thead>\n",
       "    <tr style=\"text-align: right;\">\n",
       "      <th></th>\n",
       "      <th>model</th>\n",
       "      <th>accuracy</th>\n",
       "    </tr>\n",
       "  </thead>\n",
       "  <tbody>\n",
       "    <tr>\n",
       "      <th>0</th>\n",
       "      <td>1</td>\n",
       "      <td>27.205267</td>\n",
       "    </tr>\n",
       "    <tr>\n",
       "      <th>1</th>\n",
       "      <td>2</td>\n",
       "      <td>32.196570</td>\n",
       "    </tr>\n",
       "    <tr>\n",
       "      <th>2</th>\n",
       "      <td>3</td>\n",
       "      <td>34.626654</td>\n",
       "    </tr>\n",
       "    <tr>\n",
       "      <th>3</th>\n",
       "      <td>4</td>\n",
       "      <td>36.219342</td>\n",
       "    </tr>\n",
       "    <tr>\n",
       "      <th>4</th>\n",
       "      <td>5</td>\n",
       "      <td>36.684735</td>\n",
       "    </tr>\n",
       "    <tr>\n",
       "      <th>5</th>\n",
       "      <td>6</td>\n",
       "      <td>36.854004</td>\n",
       "    </tr>\n",
       "    <tr>\n",
       "      <th>6</th>\n",
       "      <td>7</td>\n",
       "      <td>36.886302</td>\n",
       "    </tr>\n",
       "    <tr>\n",
       "      <th>7</th>\n",
       "      <td>8</td>\n",
       "      <td>36.899532</td>\n",
       "    </tr>\n",
       "    <tr>\n",
       "      <th>8</th>\n",
       "      <td>9</td>\n",
       "      <td>36.901867</td>\n",
       "    </tr>\n",
       "    <tr>\n",
       "      <th>9</th>\n",
       "      <td>10</td>\n",
       "      <td>36.901867</td>\n",
       "    </tr>\n",
       "    <tr>\n",
       "      <th>10</th>\n",
       "      <td>11</td>\n",
       "      <td>36.902645</td>\n",
       "    </tr>\n",
       "  </tbody>\n",
       "</table>\n",
       "</div>"
      ],
      "text/plain": [
       "    model   accuracy\n",
       "0       1  27.205267\n",
       "1       2  32.196570\n",
       "2       3  34.626654\n",
       "3       4  36.219342\n",
       "4       5  36.684735\n",
       "5       6  36.854004\n",
       "6       7  36.886302\n",
       "7       8  36.899532\n",
       "8       9  36.901867\n",
       "9      10  36.901867\n",
       "10     11  36.902645"
      ]
     },
     "execution_count": 11,
     "metadata": {},
     "output_type": "execute_result"
    }
   ],
   "source": [
    "result_affixtagger = pd.DataFrame({\"model\": [1, 2, 3, 4, 5, 6, 7, 8, 9, 10 , 11], \"accuracy\": acc_affixtagger})\n",
    "result_affixtagger"
   ]
  },
  {
   "cell_type": "markdown",
   "metadata": {
    "id": "1bbQ9Dq_JEun"
   },
   "source": [
    "De acordo com os resultados apresentados na tabela acima os resultados obtidos com valores de affix lenght menor que -5 apresentaram um dempenho inferior aos demais, enquanto que, as variaçãoes entre -5 e -12 apresentaram um diferença pouco significativa. Acredita-se que isso ocorre devido ao tamanho médio das palavras. Entende-se que, em geral, as palavras mais utilizadas não possuem um sufixo tão grande, assim, um sufixo de tamanho igual a 12 é demasiadamente grande e, por isso, não faz diferença.\n",
    "\n",
    "\n",
    "Após, foram treinados modelos considerando diferentes tamanhos de n-gram."
   ]
  },
  {
   "cell_type": "markdown",
   "metadata": {
    "id": "8snPQwrtYBdu"
   },
   "source": [
    "## UnigramTagger"
   ]
  },
  {
   "cell_type": "code",
   "execution_count": 12,
   "metadata": {
    "ExecuteTime": {
     "end_time": "2021-03-15T20:59:39.538275Z",
     "start_time": "2021-03-15T20:59:35.825479Z"
    },
    "colab": {
     "base_uri": "https://localhost:8080/"
    },
    "id": "kol4TfwLYS00",
    "outputId": "259a9a94-3cf8-4871-abed-155d5ddc8892"
   },
   "outputs": [
    {
     "name": "stdout",
     "output_type": "stream",
     "text": [
      "Accuracy UnigramTagger: 82.15201547159973\n"
     ]
    }
   ],
   "source": [
    "model_12 = nltk.UnigramTagger(train, backoff=model_4)\n",
    "print(\"Accuracy UnigramTagger: {}\".format(model_12.evaluate(test) * 100))"
   ]
  },
  {
   "cell_type": "markdown",
   "metadata": {
    "id": "LuCI8fxGYEb5"
   },
   "source": [
    "## BigramTagger"
   ]
  },
  {
   "cell_type": "code",
   "execution_count": 13,
   "metadata": {
    "ExecuteTime": {
     "end_time": "2021-03-15T20:59:43.543270Z",
     "start_time": "2021-03-15T20:59:39.540275Z"
    },
    "colab": {
     "base_uri": "https://localhost:8080/"
    },
    "id": "xR9UbmBWYNAU",
    "outputId": "de49c53a-fe8f-4fb1-f9cc-c5f3a6ccab93"
   },
   "outputs": [
    {
     "name": "stdout",
     "output_type": "stream",
     "text": [
      "Accuracy BigramTagger: 84.25289995213767\n"
     ]
    }
   ],
   "source": [
    "model_13 = nltk.BigramTagger(train, backoff=model_12)\n",
    "print(\"Accuracy BigramTagger: {}\".format(model_13.evaluate(test) * 100))"
   ]
  },
  {
   "cell_type": "markdown",
   "metadata": {
    "id": "li-4qmK7YHDB"
   },
   "source": [
    "## TrigramTagger"
   ]
  },
  {
   "cell_type": "code",
   "execution_count": 14,
   "metadata": {
    "ExecuteTime": {
     "end_time": "2021-03-15T20:59:48.598854Z",
     "start_time": "2021-03-15T20:59:43.545101Z"
    },
    "colab": {
     "base_uri": "https://localhost:8080/"
    },
    "id": "t5wVDPeCYfTP",
    "outputId": "cd284393-d601-42ab-912e-ec7b3c4cf123"
   },
   "outputs": [
    {
     "name": "stdout",
     "output_type": "stream",
     "text": [
      "Accuracy TrigramTagger: 84.14666889764852\n"
     ]
    }
   ],
   "source": [
    "model_14 = nltk.TrigramTagger(train, backoff=model_13)\n",
    "print(\"Accuracy TrigramTagger: {}\".format(model_14.evaluate(test) * 100))"
   ]
  },
  {
   "cell_type": "markdown",
   "metadata": {
    "id": "p__Erw3TKNF-"
   },
   "source": [
    "Com base nos resultados apresentados, verifica-se qua a utilização de unigram possui um desempenho inferior ao de Bigram e Trigram. Contudo, não há uma diferença significativa com os resultados obtidos entre os modelos que utilizam Bigram e Trigram.  Entende-se que o resultado obtido é esperado, já que a lingua portuguesa possui uma estrura onde uma palavra anterior influência na definição da próxima palavra. Além disso, acredita-se que a utilização de Bi-grams e Tri-grams auxilia em uma melhor predição para onde uma palavra representada com duas token deveria ser representada por uma só como é o caso da palavra \"São Paulo\" que consta na base como duas palavras \"São\" e \"Paulo\" sendo que o sentido completo dela é a união das duas tokens.\n",
    "\n",
    "Vale aind ressaltar que, ambas as variações possuem apresentadas possuem resultados superiores aos obtidos com o AffixTagger e o modelo Baseline. Após, foi testado o modelo Brill Tagger. Para o Brill Tagger foram treinados dois modelos, o primeiro utilizando como backoff o modelo obtido com unigram e o segundo com bigram. A seguir são apresentados o treinamento e validação desses modelos."
   ]
  },
  {
   "cell_type": "markdown",
   "metadata": {
    "id": "SFcCjlAHjr3l"
   },
   "source": [
    "## BrillTagger "
   ]
  },
  {
   "cell_type": "code",
   "execution_count": 15,
   "metadata": {
    "ExecuteTime": {
     "end_time": "2021-03-15T21:06:23.980796Z",
     "start_time": "2021-03-15T20:59:48.601295Z"
    },
    "colab": {
     "base_uri": "https://localhost:8080/"
    },
    "id": "2CtB3RsVjyDB",
    "outputId": "327996bb-dc83-4618-b113-b537ad783ee0"
   },
   "outputs": [
    {
     "name": "stdout",
     "output_type": "stream",
     "text": [
      "TBL train (fast) (seqs: 41118; tokens: 913108; tpls: 37; min score: 2; min acc: None)\n",
      "Finding initial useful rules...\n",
      "    Found 956621 useful rules.\n",
      "Selecting rules...\n",
      "Accuracy BrillTagger with UnigramTagger: 91.68168039628463\n"
     ]
    }
   ],
   "source": [
    "model_15 = nltk.BrillTaggerTrainer(model_13, nltk.brill.fntbl37(), trace=True)\n",
    "model_15 = model_15.train(train)\n",
    "print(\"Accuracy BrillTagger with UnigramTagger: {}\".format(model_15.evaluate(test) * 100))"
   ]
  },
  {
   "cell_type": "code",
   "execution_count": 16,
   "metadata": {
    "ExecuteTime": {
     "end_time": "2021-03-15T21:11:28.429217Z",
     "start_time": "2021-03-15T21:06:24.250345Z"
    },
    "colab": {
     "base_uri": "https://localhost:8080/"
    },
    "id": "8OrRlqZdj8a_",
    "outputId": "1e488e5d-8d69-4e95-b7ed-07c8a76a2a19"
   },
   "outputs": [
    {
     "name": "stdout",
     "output_type": "stream",
     "text": [
      "TBL train (fast) (seqs: 41118; tokens: 913108; tpls: 37; min score: 2; min acc: None)\n",
      "Finding initial useful rules...\n",
      "    Found 915223 useful rules.\n",
      "Selecting rules...\n",
      "Accuracy BrillTagger with UnigramTagger: 91.30656414526804\n"
     ]
    }
   ],
   "source": [
    "model_16 = nltk.BrillTaggerTrainer(model_14, nltk.brill.fntbl37(), trace=True)\n",
    "model_16 = model_16.train(train)\n",
    "print(\"Accuracy BrillTagger with UnigramTagger: {}\".format(model_16.evaluate(test) * 100))"
   ]
  },
  {
   "cell_type": "markdown",
   "metadata": {},
   "source": [
    "Os resultados obtidos com o BrillTagger são superiores aos modelos apresentados anteriormente. Tanto o BrillTagger treinado com unigram e com o Bigram apresentaram resultados similares. Sendo que o modelo que utiliza como tagger inicial o modelo de unigram foi o que obteve o melhor desempenho. Vale ressaltar, que quando foi realizada a avaliação dos modelos unigram e bigram, o modelo bigram foi oq obteve um melhor resultado. Contudo, em ambos os casos as diferenças não são significativas. \n",
    "\n",
    "Por fim, foi treinado o Hidden Markov Model."
   ]
  },
  {
   "cell_type": "markdown",
   "metadata": {},
   "source": [
    "## Hidden Markov Model"
   ]
  },
  {
   "cell_type": "code",
   "execution_count": 17,
   "metadata": {
    "ExecuteTime": {
     "end_time": "2021-03-15T21:11:29.606160Z",
     "start_time": "2021-03-15T21:11:28.431133Z"
    }
   },
   "outputs": [],
   "source": [
    "trainer = hmm.HiddenMarkovModelTrainer()\n",
    "model_17 = trainer.train_supervised(train)"
   ]
  },
  {
   "cell_type": "code",
   "execution_count": 18,
   "metadata": {
    "ExecuteTime": {
     "end_time": "2021-03-15T21:14:47.446440Z",
     "start_time": "2021-03-15T21:11:29.607283Z"
    }
   },
   "outputs": [
    {
     "name": "stdout",
     "output_type": "stream",
     "text": [
      "Accuracy HMM model: 56.82660990633768\n"
     ]
    }
   ],
   "source": [
    "print(\"Accuracy HMM model: {}\".format(model_17.evaluate(test) * 100))"
   ]
  },
  {
   "cell_type": "markdown",
   "metadata": {},
   "source": [
    "O modelo HMM obteve um valor de acurácia inferior aos modelo BrillTagger,  UnigramTagger, BigramTagger e TrigramTagger. Contudo, esse modelo obteve um resultado melhor que todas as variações de AffixTagger."
   ]
  },
  {
   "cell_type": "markdown",
   "metadata": {
    "ExecuteTime": {
     "end_time": "2021-03-14T23:14:19.380529Z",
     "start_time": "2021-03-14T23:14:19.377986Z"
    }
   },
   "source": [
    "# Validação por classe"
   ]
  },
  {
   "cell_type": "markdown",
   "metadata": {
    "id": "AKDA0_CEOWRd"
   },
   "source": [
    "\n",
    "Por fim, na **terceira etapa**, foi avaliado o desempenho dos modelos para cada classe de palavras. Para essa análise, foi selecionado apenas um dos modelos AffixTagger sendo escolhido o modelo 4, por ter um resultado semelhante aos modelos que possuem um tamanho de sufixo superior usando um tamanho de sufixo menor. Durante os experimentos, verificou-se que muitas das classes apresentadas possuiam um valor baixo de suporte e essas classes, em geral, são as mais específicas. Diante disso, foram selecionadas algumas das classes presentes no dataset, sendo essas as classes de adjetivos, advérbio, artigo, substantivo, substantivo próprio, preposição e verbo. A seguir, são apresentados os resultados para cada classe."
   ]
  },
  {
   "cell_type": "code",
   "execution_count": 19,
   "metadata": {
    "ExecuteTime": {
     "end_time": "2021-03-15T21:14:47.454264Z",
     "start_time": "2021-03-15T21:14:47.448345Z"
    },
    "id": "Zi8wuU7y9Kuc"
   },
   "outputs": [],
   "source": [
    "def evaluate_by_class(model, test):\n",
    "\n",
    "  tagged_test_sentences = model.tag_sents([[token for token,tag in sent] for sent in test])\n",
    "  gold = [str(tag) for sentence in test for token,tag in sentence]\n",
    "  pred = [str(tag) for sentence in tagged_test_sentences for token,tag in sentence]\n",
    "\n",
    "  report = classification_report(gold, pred, output_dict=True)\n",
    "  df = pd.DataFrame(report).transpose().reset_index().loc[5:]\n",
    "\n",
    "  return df"
   ]
  },
  {
   "cell_type": "code",
   "execution_count": 20,
   "metadata": {
    "ExecuteTime": {
     "end_time": "2021-03-15T21:14:48.018916Z",
     "start_time": "2021-03-15T21:14:47.455998Z"
    },
    "id": "1dGkT60Nf5wZ"
   },
   "outputs": [],
   "source": [
    "classes = ['ADJ', 'ADV', 'ART', 'N', 'NPROP', 'PREP', 'V']"
   ]
  },
  {
   "cell_type": "code",
   "execution_count": 21,
   "metadata": {
    "ExecuteTime": {
     "end_time": "2021-03-15T21:14:50.528656Z",
     "start_time": "2021-03-15T21:14:48.023638Z"
    },
    "colab": {
     "base_uri": "https://localhost:8080/"
    },
    "id": "ZyRC7CL_dFwb",
    "outputId": "4265959d-8716-4a55-cc5a-02412f2cb8d4"
   },
   "outputs": [
    {
     "data": {
      "text/html": [
       "<div>\n",
       "<style scoped>\n",
       "    .dataframe tbody tr th:only-of-type {\n",
       "        vertical-align: middle;\n",
       "    }\n",
       "\n",
       "    .dataframe tbody tr th {\n",
       "        vertical-align: top;\n",
       "    }\n",
       "\n",
       "    .dataframe thead th {\n",
       "        text-align: right;\n",
       "    }\n",
       "</style>\n",
       "<table border=\"1\" class=\"dataframe\">\n",
       "  <thead>\n",
       "    <tr style=\"text-align: right;\">\n",
       "      <th></th>\n",
       "      <th>index</th>\n",
       "      <th>precision</th>\n",
       "      <th>recall</th>\n",
       "      <th>f1-score</th>\n",
       "      <th>support</th>\n",
       "    </tr>\n",
       "  </thead>\n",
       "  <tbody>\n",
       "    <tr>\n",
       "      <th>14</th>\n",
       "      <td>ADJ</td>\n",
       "      <td>0.000000</td>\n",
       "      <td>0.0</td>\n",
       "      <td>0.000000</td>\n",
       "      <td>13687.0</td>\n",
       "    </tr>\n",
       "    <tr>\n",
       "      <th>17</th>\n",
       "      <td>ADV</td>\n",
       "      <td>0.000000</td>\n",
       "      <td>0.0</td>\n",
       "      <td>0.000000</td>\n",
       "      <td>8004.0</td>\n",
       "    </tr>\n",
       "    <tr>\n",
       "      <th>24</th>\n",
       "      <td>ART</td>\n",
       "      <td>0.000000</td>\n",
       "      <td>0.0</td>\n",
       "      <td>0.000000</td>\n",
       "      <td>31782.0</td>\n",
       "    </tr>\n",
       "    <tr>\n",
       "      <th>35</th>\n",
       "      <td>N</td>\n",
       "      <td>0.196769</td>\n",
       "      <td>1.0</td>\n",
       "      <td>0.328833</td>\n",
       "      <td>50567.0</td>\n",
       "    </tr>\n",
       "    <tr>\n",
       "      <th>36</th>\n",
       "      <td>NPROP</td>\n",
       "      <td>0.000000</td>\n",
       "      <td>0.0</td>\n",
       "      <td>0.000000</td>\n",
       "      <td>22388.0</td>\n",
       "    </tr>\n",
       "    <tr>\n",
       "      <th>45</th>\n",
       "      <td>PREP</td>\n",
       "      <td>0.000000</td>\n",
       "      <td>0.0</td>\n",
       "      <td>0.000000</td>\n",
       "      <td>21896.0</td>\n",
       "    </tr>\n",
       "    <tr>\n",
       "      <th>56</th>\n",
       "      <td>V</td>\n",
       "      <td>0.000000</td>\n",
       "      <td>0.0</td>\n",
       "      <td>0.000000</td>\n",
       "      <td>22307.0</td>\n",
       "    </tr>\n",
       "  </tbody>\n",
       "</table>\n",
       "</div>"
      ],
      "text/plain": [
       "    index  precision  recall  f1-score  support\n",
       "14    ADJ   0.000000     0.0  0.000000  13687.0\n",
       "17    ADV   0.000000     0.0  0.000000   8004.0\n",
       "24    ART   0.000000     0.0  0.000000  31782.0\n",
       "35      N   0.196769     1.0  0.328833  50567.0\n",
       "36  NPROP   0.000000     0.0  0.000000  22388.0\n",
       "45   PREP   0.000000     0.0  0.000000  21896.0\n",
       "56      V   0.000000     0.0  0.000000  22307.0"
      ]
     },
     "execution_count": 21,
     "metadata": {},
     "output_type": "execute_result"
    }
   ],
   "source": [
    "df_base = evaluate_by_class(baseline, test)\n",
    "df_base.loc[(df_base['index'].isin(classes))]"
   ]
  },
  {
   "cell_type": "code",
   "execution_count": 22,
   "metadata": {
    "ExecuteTime": {
     "end_time": "2021-03-15T21:14:53.256687Z",
     "start_time": "2021-03-15T21:14:50.530815Z"
    },
    "colab": {
     "base_uri": "https://localhost:8080/"
    },
    "id": "F8RFfecAij3m",
    "outputId": "45e0386a-e6f6-4901-ba52-116580bf6d1e"
   },
   "outputs": [
    {
     "data": {
      "text/html": [
       "<div>\n",
       "<style scoped>\n",
       "    .dataframe tbody tr th:only-of-type {\n",
       "        vertical-align: middle;\n",
       "    }\n",
       "\n",
       "    .dataframe tbody tr th {\n",
       "        vertical-align: top;\n",
       "    }\n",
       "\n",
       "    .dataframe thead th {\n",
       "        text-align: right;\n",
       "    }\n",
       "</style>\n",
       "<table border=\"1\" class=\"dataframe\">\n",
       "  <thead>\n",
       "    <tr style=\"text-align: right;\">\n",
       "      <th></th>\n",
       "      <th>index</th>\n",
       "      <th>precision</th>\n",
       "      <th>recall</th>\n",
       "      <th>f1-score</th>\n",
       "      <th>support</th>\n",
       "    </tr>\n",
       "  </thead>\n",
       "  <tbody>\n",
       "    <tr>\n",
       "      <th>14</th>\n",
       "      <td>ADJ</td>\n",
       "      <td>0.595141</td>\n",
       "      <td>0.436692</td>\n",
       "      <td>0.503751</td>\n",
       "      <td>13687.0</td>\n",
       "    </tr>\n",
       "    <tr>\n",
       "      <th>17</th>\n",
       "      <td>ADV</td>\n",
       "      <td>0.492612</td>\n",
       "      <td>0.370690</td>\n",
       "      <td>0.423041</td>\n",
       "      <td>8004.0</td>\n",
       "    </tr>\n",
       "    <tr>\n",
       "      <th>24</th>\n",
       "      <td>ART</td>\n",
       "      <td>0.000000</td>\n",
       "      <td>0.000000</td>\n",
       "      <td>0.000000</td>\n",
       "      <td>31782.0</td>\n",
       "    </tr>\n",
       "    <tr>\n",
       "      <th>35</th>\n",
       "      <td>N</td>\n",
       "      <td>0.214082</td>\n",
       "      <td>0.806613</td>\n",
       "      <td>0.338360</td>\n",
       "      <td>50567.0</td>\n",
       "    </tr>\n",
       "    <tr>\n",
       "      <th>36</th>\n",
       "      <td>NPROP</td>\n",
       "      <td>0.685044</td>\n",
       "      <td>0.376854</td>\n",
       "      <td>0.486226</td>\n",
       "      <td>22388.0</td>\n",
       "    </tr>\n",
       "    <tr>\n",
       "      <th>46</th>\n",
       "      <td>PREP</td>\n",
       "      <td>0.752892</td>\n",
       "      <td>0.190217</td>\n",
       "      <td>0.303704</td>\n",
       "      <td>21896.0</td>\n",
       "    </tr>\n",
       "    <tr>\n",
       "      <th>57</th>\n",
       "      <td>V</td>\n",
       "      <td>0.657370</td>\n",
       "      <td>0.595956</td>\n",
       "      <td>0.625159</td>\n",
       "      <td>22307.0</td>\n",
       "    </tr>\n",
       "  </tbody>\n",
       "</table>\n",
       "</div>"
      ],
      "text/plain": [
       "    index  precision    recall  f1-score  support\n",
       "14    ADJ   0.595141  0.436692  0.503751  13687.0\n",
       "17    ADV   0.492612  0.370690  0.423041   8004.0\n",
       "24    ART   0.000000  0.000000  0.000000  31782.0\n",
       "35      N   0.214082  0.806613  0.338360  50567.0\n",
       "36  NPROP   0.685044  0.376854  0.486226  22388.0\n",
       "46   PREP   0.752892  0.190217  0.303704  21896.0\n",
       "57      V   0.657370  0.595956  0.625159  22307.0"
      ]
     },
     "execution_count": 22,
     "metadata": {},
     "output_type": "execute_result"
    }
   ],
   "source": [
    "df_2 = evaluate_by_class(model_2, test)\n",
    "df_2.loc[(df_2['index'].isin(classes))]"
   ]
  },
  {
   "cell_type": "code",
   "execution_count": 23,
   "metadata": {
    "ExecuteTime": {
     "end_time": "2021-03-15T21:14:56.107991Z",
     "start_time": "2021-03-15T21:14:53.258593Z"
    },
    "colab": {
     "base_uri": "https://localhost:8080/"
    },
    "id": "MIHdHPG2MSwV",
    "outputId": "058aed38-2e8b-439f-93d2-6b99fd21f2c5"
   },
   "outputs": [
    {
     "data": {
      "text/html": [
       "<div>\n",
       "<style scoped>\n",
       "    .dataframe tbody tr th:only-of-type {\n",
       "        vertical-align: middle;\n",
       "    }\n",
       "\n",
       "    .dataframe tbody tr th {\n",
       "        vertical-align: top;\n",
       "    }\n",
       "\n",
       "    .dataframe thead th {\n",
       "        text-align: right;\n",
       "    }\n",
       "</style>\n",
       "<table border=\"1\" class=\"dataframe\">\n",
       "  <thead>\n",
       "    <tr style=\"text-align: right;\">\n",
       "      <th></th>\n",
       "      <th>index</th>\n",
       "      <th>precision</th>\n",
       "      <th>recall</th>\n",
       "      <th>f1-score</th>\n",
       "      <th>support</th>\n",
       "    </tr>\n",
       "  </thead>\n",
       "  <tbody>\n",
       "    <tr>\n",
       "      <th>14</th>\n",
       "      <td>ADJ</td>\n",
       "      <td>0.690395</td>\n",
       "      <td>0.632790</td>\n",
       "      <td>0.660339</td>\n",
       "      <td>13687.0</td>\n",
       "    </tr>\n",
       "    <tr>\n",
       "      <th>17</th>\n",
       "      <td>ADV</td>\n",
       "      <td>0.661457</td>\n",
       "      <td>0.375437</td>\n",
       "      <td>0.478999</td>\n",
       "      <td>8004.0</td>\n",
       "    </tr>\n",
       "    <tr>\n",
       "      <th>24</th>\n",
       "      <td>ART</td>\n",
       "      <td>0.000000</td>\n",
       "      <td>0.000000</td>\n",
       "      <td>0.000000</td>\n",
       "      <td>31782.0</td>\n",
       "    </tr>\n",
       "    <tr>\n",
       "      <th>35</th>\n",
       "      <td>N</td>\n",
       "      <td>0.230170</td>\n",
       "      <td>0.848201</td>\n",
       "      <td>0.362084</td>\n",
       "      <td>50567.0</td>\n",
       "    </tr>\n",
       "    <tr>\n",
       "      <th>36</th>\n",
       "      <td>NPROP</td>\n",
       "      <td>0.744635</td>\n",
       "      <td>0.478917</td>\n",
       "      <td>0.582923</td>\n",
       "      <td>22388.0</td>\n",
       "    </tr>\n",
       "    <tr>\n",
       "      <th>46</th>\n",
       "      <td>PREP</td>\n",
       "      <td>0.765341</td>\n",
       "      <td>0.207344</td>\n",
       "      <td>0.326290</td>\n",
       "      <td>21896.0</td>\n",
       "    </tr>\n",
       "    <tr>\n",
       "      <th>57</th>\n",
       "      <td>V</td>\n",
       "      <td>0.736991</td>\n",
       "      <td>0.664769</td>\n",
       "      <td>0.699020</td>\n",
       "      <td>22307.0</td>\n",
       "    </tr>\n",
       "  </tbody>\n",
       "</table>\n",
       "</div>"
      ],
      "text/plain": [
       "    index  precision    recall  f1-score  support\n",
       "14    ADJ   0.690395  0.632790  0.660339  13687.0\n",
       "17    ADV   0.661457  0.375437  0.478999   8004.0\n",
       "24    ART   0.000000  0.000000  0.000000  31782.0\n",
       "35      N   0.230170  0.848201  0.362084  50567.0\n",
       "36  NPROP   0.744635  0.478917  0.582923  22388.0\n",
       "46   PREP   0.765341  0.207344  0.326290  21896.0\n",
       "57      V   0.736991  0.664769  0.699020  22307.0"
      ]
     },
     "execution_count": 23,
     "metadata": {},
     "output_type": "execute_result"
    }
   ],
   "source": [
    "df_4 = evaluate_by_class(model_4, test)\n",
    "df_4.loc[(df_4['index'].isin(classes))]"
   ]
  },
  {
   "cell_type": "code",
   "execution_count": 24,
   "metadata": {
    "ExecuteTime": {
     "end_time": "2021-03-15T21:14:59.044208Z",
     "start_time": "2021-03-15T21:14:56.109288Z"
    },
    "colab": {
     "base_uri": "https://localhost:8080/"
    },
    "id": "6VeTlUDlL_B6",
    "outputId": "54916ea4-9454-4214-df0c-2059c2bba0bc"
   },
   "outputs": [
    {
     "data": {
      "text/html": [
       "<div>\n",
       "<style scoped>\n",
       "    .dataframe tbody tr th:only-of-type {\n",
       "        vertical-align: middle;\n",
       "    }\n",
       "\n",
       "    .dataframe tbody tr th {\n",
       "        vertical-align: top;\n",
       "    }\n",
       "\n",
       "    .dataframe thead th {\n",
       "        text-align: right;\n",
       "    }\n",
       "</style>\n",
       "<table border=\"1\" class=\"dataframe\">\n",
       "  <thead>\n",
       "    <tr style=\"text-align: right;\">\n",
       "      <th></th>\n",
       "      <th>index</th>\n",
       "      <th>precision</th>\n",
       "      <th>recall</th>\n",
       "      <th>f1-score</th>\n",
       "      <th>support</th>\n",
       "    </tr>\n",
       "  </thead>\n",
       "  <tbody>\n",
       "    <tr>\n",
       "      <th>14</th>\n",
       "      <td>ADJ</td>\n",
       "      <td>0.778117</td>\n",
       "      <td>0.801198</td>\n",
       "      <td>0.789489</td>\n",
       "      <td>13687.0</td>\n",
       "    </tr>\n",
       "    <tr>\n",
       "      <th>17</th>\n",
       "      <td>ADV</td>\n",
       "      <td>0.843023</td>\n",
       "      <td>0.833333</td>\n",
       "      <td>0.838150</td>\n",
       "      <td>8004.0</td>\n",
       "    </tr>\n",
       "    <tr>\n",
       "      <th>24</th>\n",
       "      <td>ART</td>\n",
       "      <td>0.857023</td>\n",
       "      <td>0.999780</td>\n",
       "      <td>0.922914</td>\n",
       "      <td>31782.0</td>\n",
       "    </tr>\n",
       "    <tr>\n",
       "      <th>35</th>\n",
       "      <td>N</td>\n",
       "      <td>0.867868</td>\n",
       "      <td>0.903910</td>\n",
       "      <td>0.885522</td>\n",
       "      <td>50567.0</td>\n",
       "    </tr>\n",
       "    <tr>\n",
       "      <th>36</th>\n",
       "      <td>NPROP</td>\n",
       "      <td>0.810730</td>\n",
       "      <td>0.679024</td>\n",
       "      <td>0.739055</td>\n",
       "      <td>22388.0</td>\n",
       "    </tr>\n",
       "    <tr>\n",
       "      <th>46</th>\n",
       "      <td>PREP</td>\n",
       "      <td>0.602547</td>\n",
       "      <td>0.736756</td>\n",
       "      <td>0.662927</td>\n",
       "      <td>21896.0</td>\n",
       "    </tr>\n",
       "    <tr>\n",
       "      <th>57</th>\n",
       "      <td>V</td>\n",
       "      <td>0.882042</td>\n",
       "      <td>0.896355</td>\n",
       "      <td>0.889141</td>\n",
       "      <td>22307.0</td>\n",
       "    </tr>\n",
       "  </tbody>\n",
       "</table>\n",
       "</div>"
      ],
      "text/plain": [
       "    index  precision    recall  f1-score  support\n",
       "14    ADJ   0.778117  0.801198  0.789489  13687.0\n",
       "17    ADV   0.843023  0.833333  0.838150   8004.0\n",
       "24    ART   0.857023  0.999780  0.922914  31782.0\n",
       "35      N   0.867868  0.903910  0.885522  50567.0\n",
       "36  NPROP   0.810730  0.679024  0.739055  22388.0\n",
       "46   PREP   0.602547  0.736756  0.662927  21896.0\n",
       "57      V   0.882042  0.896355  0.889141  22307.0"
      ]
     },
     "execution_count": 24,
     "metadata": {},
     "output_type": "execute_result"
    }
   ],
   "source": [
    "df_12 = evaluate_by_class(model_12, test)\n",
    "df_12.loc[(df_12['index'].isin(classes))]"
   ]
  },
  {
   "cell_type": "code",
   "execution_count": 25,
   "metadata": {
    "ExecuteTime": {
     "end_time": "2021-03-15T21:15:02.171405Z",
     "start_time": "2021-03-15T21:14:59.045999Z"
    },
    "colab": {
     "base_uri": "https://localhost:8080/"
    },
    "id": "BIzXo9wEMA2K",
    "outputId": "4c31160b-da44-45ce-dd85-f9374886fdbb"
   },
   "outputs": [
    {
     "data": {
      "text/html": [
       "<div>\n",
       "<style scoped>\n",
       "    .dataframe tbody tr th:only-of-type {\n",
       "        vertical-align: middle;\n",
       "    }\n",
       "\n",
       "    .dataframe tbody tr th {\n",
       "        vertical-align: top;\n",
       "    }\n",
       "\n",
       "    .dataframe thead th {\n",
       "        text-align: right;\n",
       "    }\n",
       "</style>\n",
       "<table border=\"1\" class=\"dataframe\">\n",
       "  <thead>\n",
       "    <tr style=\"text-align: right;\">\n",
       "      <th></th>\n",
       "      <th>index</th>\n",
       "      <th>precision</th>\n",
       "      <th>recall</th>\n",
       "      <th>f1-score</th>\n",
       "      <th>support</th>\n",
       "    </tr>\n",
       "  </thead>\n",
       "  <tbody>\n",
       "    <tr>\n",
       "      <th>14</th>\n",
       "      <td>ADJ</td>\n",
       "      <td>0.832173</td>\n",
       "      <td>0.855702</td>\n",
       "      <td>0.843774</td>\n",
       "      <td>13687.0</td>\n",
       "    </tr>\n",
       "    <tr>\n",
       "      <th>17</th>\n",
       "      <td>ADV</td>\n",
       "      <td>0.891657</td>\n",
       "      <td>0.831834</td>\n",
       "      <td>0.860707</td>\n",
       "      <td>8004.0</td>\n",
       "    </tr>\n",
       "    <tr>\n",
       "      <th>24</th>\n",
       "      <td>ART</td>\n",
       "      <td>0.893082</td>\n",
       "      <td>0.979800</td>\n",
       "      <td>0.934434</td>\n",
       "      <td>31782.0</td>\n",
       "    </tr>\n",
       "    <tr>\n",
       "      <th>35</th>\n",
       "      <td>N</td>\n",
       "      <td>0.889300</td>\n",
       "      <td>0.916665</td>\n",
       "      <td>0.902775</td>\n",
       "      <td>50567.0</td>\n",
       "    </tr>\n",
       "    <tr>\n",
       "      <th>36</th>\n",
       "      <td>NPROP</td>\n",
       "      <td>0.819510</td>\n",
       "      <td>0.729096</td>\n",
       "      <td>0.771664</td>\n",
       "      <td>22388.0</td>\n",
       "    </tr>\n",
       "    <tr>\n",
       "      <th>46</th>\n",
       "      <td>PREP</td>\n",
       "      <td>0.642229</td>\n",
       "      <td>0.686929</td>\n",
       "      <td>0.663827</td>\n",
       "      <td>21896.0</td>\n",
       "    </tr>\n",
       "    <tr>\n",
       "      <th>57</th>\n",
       "      <td>V</td>\n",
       "      <td>0.883455</td>\n",
       "      <td>0.915139</td>\n",
       "      <td>0.899018</td>\n",
       "      <td>22307.0</td>\n",
       "    </tr>\n",
       "  </tbody>\n",
       "</table>\n",
       "</div>"
      ],
      "text/plain": [
       "    index  precision    recall  f1-score  support\n",
       "14    ADJ   0.832173  0.855702  0.843774  13687.0\n",
       "17    ADV   0.891657  0.831834  0.860707   8004.0\n",
       "24    ART   0.893082  0.979800  0.934434  31782.0\n",
       "35      N   0.889300  0.916665  0.902775  50567.0\n",
       "36  NPROP   0.819510  0.729096  0.771664  22388.0\n",
       "46   PREP   0.642229  0.686929  0.663827  21896.0\n",
       "57      V   0.883455  0.915139  0.899018  22307.0"
      ]
     },
     "execution_count": 25,
     "metadata": {},
     "output_type": "execute_result"
    }
   ],
   "source": [
    "df_13 = evaluate_by_class(model_13, test)\n",
    "df_13.loc[(df_13['index'].isin(classes))]"
   ]
  },
  {
   "cell_type": "code",
   "execution_count": 26,
   "metadata": {
    "ExecuteTime": {
     "end_time": "2021-03-15T21:15:05.383938Z",
     "start_time": "2021-03-15T21:15:02.173013Z"
    },
    "colab": {
     "base_uri": "https://localhost:8080/"
    },
    "id": "52TUNtOjMJZL",
    "outputId": "9a019e61-cde3-4dfd-e435-eb73c7f841a5"
   },
   "outputs": [
    {
     "data": {
      "text/html": [
       "<div>\n",
       "<style scoped>\n",
       "    .dataframe tbody tr th:only-of-type {\n",
       "        vertical-align: middle;\n",
       "    }\n",
       "\n",
       "    .dataframe tbody tr th {\n",
       "        vertical-align: top;\n",
       "    }\n",
       "\n",
       "    .dataframe thead th {\n",
       "        text-align: right;\n",
       "    }\n",
       "</style>\n",
       "<table border=\"1\" class=\"dataframe\">\n",
       "  <thead>\n",
       "    <tr style=\"text-align: right;\">\n",
       "      <th></th>\n",
       "      <th>index</th>\n",
       "      <th>precision</th>\n",
       "      <th>recall</th>\n",
       "      <th>f1-score</th>\n",
       "      <th>support</th>\n",
       "    </tr>\n",
       "  </thead>\n",
       "  <tbody>\n",
       "    <tr>\n",
       "      <th>14</th>\n",
       "      <td>ADJ</td>\n",
       "      <td>0.830934</td>\n",
       "      <td>0.851757</td>\n",
       "      <td>0.841217</td>\n",
       "      <td>13687.0</td>\n",
       "    </tr>\n",
       "    <tr>\n",
       "      <th>17</th>\n",
       "      <td>ADV</td>\n",
       "      <td>0.888441</td>\n",
       "      <td>0.825837</td>\n",
       "      <td>0.855996</td>\n",
       "      <td>8004.0</td>\n",
       "    </tr>\n",
       "    <tr>\n",
       "      <th>24</th>\n",
       "      <td>ART</td>\n",
       "      <td>0.903682</td>\n",
       "      <td>0.965326</td>\n",
       "      <td>0.933487</td>\n",
       "      <td>31782.0</td>\n",
       "    </tr>\n",
       "    <tr>\n",
       "      <th>35</th>\n",
       "      <td>N</td>\n",
       "      <td>0.888891</td>\n",
       "      <td>0.912710</td>\n",
       "      <td>0.900643</td>\n",
       "      <td>50567.0</td>\n",
       "    </tr>\n",
       "    <tr>\n",
       "      <th>36</th>\n",
       "      <td>NPROP</td>\n",
       "      <td>0.808343</td>\n",
       "      <td>0.739995</td>\n",
       "      <td>0.772660</td>\n",
       "      <td>22388.0</td>\n",
       "    </tr>\n",
       "    <tr>\n",
       "      <th>46</th>\n",
       "      <td>PREP</td>\n",
       "      <td>0.715299</td>\n",
       "      <td>0.520597</td>\n",
       "      <td>0.602612</td>\n",
       "      <td>21896.0</td>\n",
       "    </tr>\n",
       "    <tr>\n",
       "      <th>57</th>\n",
       "      <td>V</td>\n",
       "      <td>0.883103</td>\n",
       "      <td>0.909311</td>\n",
       "      <td>0.896016</td>\n",
       "      <td>22307.0</td>\n",
       "    </tr>\n",
       "  </tbody>\n",
       "</table>\n",
       "</div>"
      ],
      "text/plain": [
       "    index  precision    recall  f1-score  support\n",
       "14    ADJ   0.830934  0.851757  0.841217  13687.0\n",
       "17    ADV   0.888441  0.825837  0.855996   8004.0\n",
       "24    ART   0.903682  0.965326  0.933487  31782.0\n",
       "35      N   0.888891  0.912710  0.900643  50567.0\n",
       "36  NPROP   0.808343  0.739995  0.772660  22388.0\n",
       "46   PREP   0.715299  0.520597  0.602612  21896.0\n",
       "57      V   0.883103  0.909311  0.896016  22307.0"
      ]
     },
     "execution_count": 26,
     "metadata": {},
     "output_type": "execute_result"
    }
   ],
   "source": [
    "df_14 = evaluate_by_class(model_14, test)\n",
    "df_14.loc[(df_14['index'].isin(classes))]"
   ]
  },
  {
   "cell_type": "code",
   "execution_count": 27,
   "metadata": {
    "ExecuteTime": {
     "end_time": "2021-03-15T21:15:11.505846Z",
     "start_time": "2021-03-15T21:15:05.385341Z"
    },
    "colab": {
     "base_uri": "https://localhost:8080/"
    },
    "id": "HvFRfRR5MKuP",
    "outputId": "6f119c46-29cd-40b0-e968-453ec54f616f"
   },
   "outputs": [
    {
     "data": {
      "text/html": [
       "<div>\n",
       "<style scoped>\n",
       "    .dataframe tbody tr th:only-of-type {\n",
       "        vertical-align: middle;\n",
       "    }\n",
       "\n",
       "    .dataframe tbody tr th {\n",
       "        vertical-align: top;\n",
       "    }\n",
       "\n",
       "    .dataframe thead th {\n",
       "        text-align: right;\n",
       "    }\n",
       "</style>\n",
       "<table border=\"1\" class=\"dataframe\">\n",
       "  <thead>\n",
       "    <tr style=\"text-align: right;\">\n",
       "      <th></th>\n",
       "      <th>index</th>\n",
       "      <th>precision</th>\n",
       "      <th>recall</th>\n",
       "      <th>f1-score</th>\n",
       "      <th>support</th>\n",
       "    </tr>\n",
       "  </thead>\n",
       "  <tbody>\n",
       "    <tr>\n",
       "      <th>14</th>\n",
       "      <td>ADJ</td>\n",
       "      <td>0.851020</td>\n",
       "      <td>0.853072</td>\n",
       "      <td>0.852045</td>\n",
       "      <td>13687.0</td>\n",
       "    </tr>\n",
       "    <tr>\n",
       "      <th>17</th>\n",
       "      <td>ADV</td>\n",
       "      <td>0.918793</td>\n",
       "      <td>0.836832</td>\n",
       "      <td>0.875899</td>\n",
       "      <td>8004.0</td>\n",
       "    </tr>\n",
       "    <tr>\n",
       "      <th>24</th>\n",
       "      <td>ART</td>\n",
       "      <td>0.968965</td>\n",
       "      <td>0.986313</td>\n",
       "      <td>0.977562</td>\n",
       "      <td>31782.0</td>\n",
       "    </tr>\n",
       "    <tr>\n",
       "      <th>35</th>\n",
       "      <td>N</td>\n",
       "      <td>0.900193</td>\n",
       "      <td>0.923211</td>\n",
       "      <td>0.911557</td>\n",
       "      <td>50567.0</td>\n",
       "    </tr>\n",
       "    <tr>\n",
       "      <th>36</th>\n",
       "      <td>NPROP</td>\n",
       "      <td>0.837383</td>\n",
       "      <td>0.766616</td>\n",
       "      <td>0.800438</td>\n",
       "      <td>22388.0</td>\n",
       "    </tr>\n",
       "    <tr>\n",
       "      <th>46</th>\n",
       "      <td>PREP</td>\n",
       "      <td>0.914346</td>\n",
       "      <td>0.944830</td>\n",
       "      <td>0.929338</td>\n",
       "      <td>21896.0</td>\n",
       "    </tr>\n",
       "    <tr>\n",
       "      <th>57</th>\n",
       "      <td>V</td>\n",
       "      <td>0.927496</td>\n",
       "      <td>0.936477</td>\n",
       "      <td>0.931965</td>\n",
       "      <td>22307.0</td>\n",
       "    </tr>\n",
       "  </tbody>\n",
       "</table>\n",
       "</div>"
      ],
      "text/plain": [
       "    index  precision    recall  f1-score  support\n",
       "14    ADJ   0.851020  0.853072  0.852045  13687.0\n",
       "17    ADV   0.918793  0.836832  0.875899   8004.0\n",
       "24    ART   0.968965  0.986313  0.977562  31782.0\n",
       "35      N   0.900193  0.923211  0.911557  50567.0\n",
       "36  NPROP   0.837383  0.766616  0.800438  22388.0\n",
       "46   PREP   0.914346  0.944830  0.929338  21896.0\n",
       "57      V   0.927496  0.936477  0.931965  22307.0"
      ]
     },
     "execution_count": 27,
     "metadata": {},
     "output_type": "execute_result"
    }
   ],
   "source": [
    "df_15 = evaluate_by_class(model_15, test)\n",
    "df_15.loc[(df_15['index'].isin(classes))]"
   ]
  },
  {
   "cell_type": "code",
   "execution_count": 28,
   "metadata": {
    "ExecuteTime": {
     "end_time": "2021-03-15T21:15:17.865129Z",
     "start_time": "2021-03-15T21:15:11.507551Z"
    },
    "colab": {
     "base_uri": "https://localhost:8080/"
    },
    "id": "OngenuEZML85",
    "outputId": "479ea50e-7c8e-4774-c107-88987acd2acf"
   },
   "outputs": [
    {
     "data": {
      "text/html": [
       "<div>\n",
       "<style scoped>\n",
       "    .dataframe tbody tr th:only-of-type {\n",
       "        vertical-align: middle;\n",
       "    }\n",
       "\n",
       "    .dataframe tbody tr th {\n",
       "        vertical-align: top;\n",
       "    }\n",
       "\n",
       "    .dataframe thead th {\n",
       "        text-align: right;\n",
       "    }\n",
       "</style>\n",
       "<table border=\"1\" class=\"dataframe\">\n",
       "  <thead>\n",
       "    <tr style=\"text-align: right;\">\n",
       "      <th></th>\n",
       "      <th>index</th>\n",
       "      <th>precision</th>\n",
       "      <th>recall</th>\n",
       "      <th>f1-score</th>\n",
       "      <th>support</th>\n",
       "    </tr>\n",
       "  </thead>\n",
       "  <tbody>\n",
       "    <tr>\n",
       "      <th>14</th>\n",
       "      <td>ADJ</td>\n",
       "      <td>0.851190</td>\n",
       "      <td>0.849200</td>\n",
       "      <td>0.850194</td>\n",
       "      <td>13687.0</td>\n",
       "    </tr>\n",
       "    <tr>\n",
       "      <th>17</th>\n",
       "      <td>ADV</td>\n",
       "      <td>0.912758</td>\n",
       "      <td>0.833958</td>\n",
       "      <td>0.871581</td>\n",
       "      <td>8004.0</td>\n",
       "    </tr>\n",
       "    <tr>\n",
       "      <th>24</th>\n",
       "      <td>ART</td>\n",
       "      <td>0.971482</td>\n",
       "      <td>0.980744</td>\n",
       "      <td>0.976091</td>\n",
       "      <td>31782.0</td>\n",
       "    </tr>\n",
       "    <tr>\n",
       "      <th>35</th>\n",
       "      <td>N</td>\n",
       "      <td>0.898226</td>\n",
       "      <td>0.919097</td>\n",
       "      <td>0.908542</td>\n",
       "      <td>50567.0</td>\n",
       "    </tr>\n",
       "    <tr>\n",
       "      <th>36</th>\n",
       "      <td>NPROP</td>\n",
       "      <td>0.827422</td>\n",
       "      <td>0.770100</td>\n",
       "      <td>0.797733</td>\n",
       "      <td>22388.0</td>\n",
       "    </tr>\n",
       "    <tr>\n",
       "      <th>46</th>\n",
       "      <td>PREP</td>\n",
       "      <td>0.912596</td>\n",
       "      <td>0.943688</td>\n",
       "      <td>0.927882</td>\n",
       "      <td>21896.0</td>\n",
       "    </tr>\n",
       "    <tr>\n",
       "      <th>57</th>\n",
       "      <td>V</td>\n",
       "      <td>0.920730</td>\n",
       "      <td>0.932039</td>\n",
       "      <td>0.926350</td>\n",
       "      <td>22307.0</td>\n",
       "    </tr>\n",
       "  </tbody>\n",
       "</table>\n",
       "</div>"
      ],
      "text/plain": [
       "    index  precision    recall  f1-score  support\n",
       "14    ADJ   0.851190  0.849200  0.850194  13687.0\n",
       "17    ADV   0.912758  0.833958  0.871581   8004.0\n",
       "24    ART   0.971482  0.980744  0.976091  31782.0\n",
       "35      N   0.898226  0.919097  0.908542  50567.0\n",
       "36  NPROP   0.827422  0.770100  0.797733  22388.0\n",
       "46   PREP   0.912596  0.943688  0.927882  21896.0\n",
       "57      V   0.920730  0.932039  0.926350  22307.0"
      ]
     },
     "execution_count": 28,
     "metadata": {},
     "output_type": "execute_result"
    }
   ],
   "source": [
    "df_16 = evaluate_by_class(model_16, test)\n",
    "df_16.loc[(df_16['index'].isin(classes))]"
   ]
  },
  {
   "cell_type": "code",
   "execution_count": 29,
   "metadata": {
    "ExecuteTime": {
     "end_time": "2021-03-15T21:18:03.948309Z",
     "start_time": "2021-03-15T21:15:17.866654Z"
    }
   },
   "outputs": [
    {
     "data": {
      "text/html": [
       "<div>\n",
       "<style scoped>\n",
       "    .dataframe tbody tr th:only-of-type {\n",
       "        vertical-align: middle;\n",
       "    }\n",
       "\n",
       "    .dataframe tbody tr th {\n",
       "        vertical-align: top;\n",
       "    }\n",
       "\n",
       "    .dataframe thead th {\n",
       "        text-align: right;\n",
       "    }\n",
       "</style>\n",
       "<table border=\"1\" class=\"dataframe\">\n",
       "  <thead>\n",
       "    <tr style=\"text-align: right;\">\n",
       "      <th></th>\n",
       "      <th>index</th>\n",
       "      <th>precision</th>\n",
       "      <th>recall</th>\n",
       "      <th>f1-score</th>\n",
       "      <th>support</th>\n",
       "    </tr>\n",
       "  </thead>\n",
       "  <tbody>\n",
       "    <tr>\n",
       "      <th>14</th>\n",
       "      <td>ADJ</td>\n",
       "      <td>0.861939</td>\n",
       "      <td>0.418280</td>\n",
       "      <td>0.563235</td>\n",
       "      <td>13687.0</td>\n",
       "    </tr>\n",
       "    <tr>\n",
       "      <th>17</th>\n",
       "      <td>ADV</td>\n",
       "      <td>0.884912</td>\n",
       "      <td>0.488006</td>\n",
       "      <td>0.629087</td>\n",
       "      <td>8004.0</td>\n",
       "    </tr>\n",
       "    <tr>\n",
       "      <th>24</th>\n",
       "      <td>ART</td>\n",
       "      <td>0.961558</td>\n",
       "      <td>0.547763</td>\n",
       "      <td>0.697937</td>\n",
       "      <td>31782.0</td>\n",
       "    </tr>\n",
       "    <tr>\n",
       "      <th>36</th>\n",
       "      <td>N</td>\n",
       "      <td>0.326581</td>\n",
       "      <td>0.975241</td>\n",
       "      <td>0.489306</td>\n",
       "      <td>50567.0</td>\n",
       "    </tr>\n",
       "    <tr>\n",
       "      <th>37</th>\n",
       "      <td>NPROP</td>\n",
       "      <td>0.887734</td>\n",
       "      <td>0.312936</td>\n",
       "      <td>0.462748</td>\n",
       "      <td>22388.0</td>\n",
       "    </tr>\n",
       "    <tr>\n",
       "      <th>47</th>\n",
       "      <td>PREP</td>\n",
       "      <td>0.871870</td>\n",
       "      <td>0.464286</td>\n",
       "      <td>0.605913</td>\n",
       "      <td>21896.0</td>\n",
       "    </tr>\n",
       "    <tr>\n",
       "      <th>58</th>\n",
       "      <td>V</td>\n",
       "      <td>0.943817</td>\n",
       "      <td>0.527906</td>\n",
       "      <td>0.677093</td>\n",
       "      <td>22307.0</td>\n",
       "    </tr>\n",
       "  </tbody>\n",
       "</table>\n",
       "</div>"
      ],
      "text/plain": [
       "    index  precision    recall  f1-score  support\n",
       "14    ADJ   0.861939  0.418280  0.563235  13687.0\n",
       "17    ADV   0.884912  0.488006  0.629087   8004.0\n",
       "24    ART   0.961558  0.547763  0.697937  31782.0\n",
       "36      N   0.326581  0.975241  0.489306  50567.0\n",
       "37  NPROP   0.887734  0.312936  0.462748  22388.0\n",
       "47   PREP   0.871870  0.464286  0.605913  21896.0\n",
       "58      V   0.943817  0.527906  0.677093  22307.0"
      ]
     },
     "execution_count": 29,
     "metadata": {},
     "output_type": "execute_result"
    }
   ],
   "source": [
    "df_17 = evaluate_by_class(model_17, test)\n",
    "df_17.loc[(df_17['index'].isin(classes))]"
   ]
  },
  {
   "cell_type": "markdown",
   "metadata": {},
   "source": [
    "## Quantidade de Tags na base de teste"
   ]
  },
  {
   "cell_type": "code",
   "execution_count": 7,
   "metadata": {
    "ExecuteTime": {
     "end_time": "2021-03-15T20:59:19.043350Z",
     "start_time": "2021-03-15T20:59:18.722149Z"
    }
   },
   "outputs": [
    {
     "data": {
      "text/html": [
       "<div>\n",
       "<style scoped>\n",
       "    .dataframe tbody tr th:only-of-type {\n",
       "        vertical-align: middle;\n",
       "    }\n",
       "\n",
       "    .dataframe tbody tr th {\n",
       "        vertical-align: top;\n",
       "    }\n",
       "\n",
       "    .dataframe thead th {\n",
       "        text-align: right;\n",
       "    }\n",
       "</style>\n",
       "<table border=\"1\" class=\"dataframe\">\n",
       "  <thead>\n",
       "    <tr style=\"text-align: right;\">\n",
       "      <th></th>\n",
       "      <th>index</th>\n",
       "      <th>0</th>\n",
       "    </tr>\n",
       "  </thead>\n",
       "  <tbody>\n",
       "    <tr>\n",
       "      <th>2</th>\n",
       "      <td>N</td>\n",
       "      <td>50567</td>\n",
       "    </tr>\n",
       "    <tr>\n",
       "      <th>1</th>\n",
       "      <td>ART</td>\n",
       "      <td>31782</td>\n",
       "    </tr>\n",
       "    <tr>\n",
       "      <th>8</th>\n",
       "      <td>NPROP</td>\n",
       "      <td>22388</td>\n",
       "    </tr>\n",
       "    <tr>\n",
       "      <th>11</th>\n",
       "      <td>V</td>\n",
       "      <td>22307</td>\n",
       "    </tr>\n",
       "    <tr>\n",
       "      <th>5</th>\n",
       "      <td>PREP</td>\n",
       "      <td>21896</td>\n",
       "    </tr>\n",
       "    <tr>\n",
       "      <th>9</th>\n",
       "      <td>PREP|+</td>\n",
       "      <td>16414</td>\n",
       "    </tr>\n",
       "    <tr>\n",
       "      <th>7</th>\n",
       "      <td>,</td>\n",
       "      <td>15636</td>\n",
       "    </tr>\n",
       "    <tr>\n",
       "      <th>6</th>\n",
       "      <td>ADJ</td>\n",
       "      <td>13687</td>\n",
       "    </tr>\n",
       "    <tr>\n",
       "      <th>0</th>\n",
       "      <td>ADV</td>\n",
       "      <td>8004</td>\n",
       "    </tr>\n",
       "    <tr>\n",
       "      <th>3</th>\n",
       "      <td>KC</td>\n",
       "      <td>6685</td>\n",
       "    </tr>\n",
       "    <tr>\n",
       "      <th>4</th>\n",
       "      <td>PROADJ</td>\n",
       "      <td>5584</td>\n",
       "    </tr>\n",
       "    <tr>\n",
       "      <th>23</th>\n",
       "      <td>PCP</td>\n",
       "      <td>5018</td>\n",
       "    </tr>\n",
       "    <tr>\n",
       "      <th>17</th>\n",
       "      <td>\"</td>\n",
       "      <td>5003</td>\n",
       "    </tr>\n",
       "    <tr>\n",
       "      <th>13</th>\n",
       "      <td>PROPESS</td>\n",
       "      <td>4489</td>\n",
       "    </tr>\n",
       "    <tr>\n",
       "      <th>14</th>\n",
       "      <td>VAUX</td>\n",
       "      <td>3570</td>\n",
       "    </tr>\n",
       "    <tr>\n",
       "      <th>12</th>\n",
       "      <td>KS</td>\n",
       "      <td>3471</td>\n",
       "    </tr>\n",
       "    <tr>\n",
       "      <th>16</th>\n",
       "      <td>PRO-KS-REL</td>\n",
       "      <td>3040</td>\n",
       "    </tr>\n",
       "    <tr>\n",
       "      <th>10</th>\n",
       "      <td>NUM</td>\n",
       "      <td>2525</td>\n",
       "    </tr>\n",
       "    <tr>\n",
       "      <th>15</th>\n",
       "      <td>PROSUB</td>\n",
       "      <td>2480</td>\n",
       "    </tr>\n",
       "    <tr>\n",
       "      <th>32</th>\n",
       "      <td>PDEN</td>\n",
       "      <td>1648</td>\n",
       "    </tr>\n",
       "    <tr>\n",
       "      <th>18</th>\n",
       "      <td>:</td>\n",
       "      <td>1622</td>\n",
       "    </tr>\n",
       "    <tr>\n",
       "      <th>20</th>\n",
       "      <td>(</td>\n",
       "      <td>1452</td>\n",
       "    </tr>\n",
       "    <tr>\n",
       "      <th>22</th>\n",
       "      <td>)</td>\n",
       "      <td>1443</td>\n",
       "    </tr>\n",
       "    <tr>\n",
       "      <th>19</th>\n",
       "      <td>N|AP</td>\n",
       "      <td>979</td>\n",
       "    </tr>\n",
       "    <tr>\n",
       "      <th>29</th>\n",
       "      <td>V|+</td>\n",
       "      <td>776</td>\n",
       "    </tr>\n",
       "    <tr>\n",
       "      <th>38</th>\n",
       "      <td>?</td>\n",
       "      <td>621</td>\n",
       "    </tr>\n",
       "    <tr>\n",
       "      <th>40</th>\n",
       "      <td>!</td>\n",
       "      <td>603</td>\n",
       "    </tr>\n",
       "    <tr>\n",
       "      <th>36</th>\n",
       "      <td>PRO-KS</td>\n",
       "      <td>576</td>\n",
       "    </tr>\n",
       "    <tr>\n",
       "      <th>27</th>\n",
       "      <td>N|EST</td>\n",
       "      <td>526</td>\n",
       "    </tr>\n",
       "    <tr>\n",
       "      <th>34</th>\n",
       "      <td>-</td>\n",
       "      <td>524</td>\n",
       "    </tr>\n",
       "  </tbody>\n",
       "</table>\n",
       "</div>"
      ],
      "text/plain": [
       "         index      0\n",
       "2            N  50567\n",
       "1          ART  31782\n",
       "8        NPROP  22388\n",
       "11           V  22307\n",
       "5         PREP  21896\n",
       "9       PREP|+  16414\n",
       "7            ,  15636\n",
       "6          ADJ  13687\n",
       "0          ADV   8004\n",
       "3           KC   6685\n",
       "4       PROADJ   5584\n",
       "23         PCP   5018\n",
       "17           \"   5003\n",
       "13     PROPESS   4489\n",
       "14        VAUX   3570\n",
       "12          KS   3471\n",
       "16  PRO-KS-REL   3040\n",
       "10         NUM   2525\n",
       "15      PROSUB   2480\n",
       "32        PDEN   1648\n",
       "18           :   1622\n",
       "20           (   1452\n",
       "22           )   1443\n",
       "19        N|AP    979\n",
       "29         V|+    776\n",
       "38           ?    621\n",
       "40           !    603\n",
       "36      PRO-KS    576\n",
       "27       N|EST    526\n",
       "34           -    524"
      ]
     },
     "execution_count": 7,
     "metadata": {},
     "output_type": "execute_result"
    }
   ],
   "source": [
    "list_tags = [tag for sentence in test for w, tag in sentence]\n",
    "count = Counter(list_tags)\n",
    "df_count = pd.DataFrame.from_dict(count, orient='index').reset_index()\n",
    "df_count = df_count.sort_values(by=0, ascending=False)\n",
    "df_count[:30]"
   ]
  },
  {
   "cell_type": "markdown",
   "metadata": {},
   "source": [
    "# Conclusão"
   ]
  },
  {
   "cell_type": "markdown",
   "metadata": {
    "id": "IVv39CDmiw7h"
   },
   "source": [
    "Com base nos resultados apresentados, é possível concluir que os modelos 15 e 16 são os que apresentam os melhores resultados que os demais. Uma das grandes diferenças entre, dentre as classes analisadas, para os modelos 15 e 16 dos modelos 12, 13 e 14 é um maior score para as preposições. O modelo 4, que é um dos modelos baseados em sufixo, obteve resultado 0 em todas as métricas para a classe de preposição, além de ter um resultado significativamente inferior ao dos outros modelos para as outras classes.\n",
    "\n",
    "Em uma análise geral, os modelos obtiveram um desempenho satisfátorio, contudo, ao analisar o desempenho por classe verifica-se que há muito pontos de melhorias. Os modelos AffixTagger, por exemplo, não obtiveram um bom desempenho com a classe de ART e N, o HMM  obteve um resultado ruim para a classe de N e os dois modelos que utilizam BrillTagger obtiveram um desempenho inferior com as classes de NPROP e ADJ. Analisando a Tabela da Seção 3.1 verifca-se que as tag supracitadas possuiam uma quantidade de ocorrências significativa na base. \n",
    "\n",
    "Em trabalhos futuros pretende-se realizar um pré-processamento na base de dados com intuito de corrigir retirar alguns caracteres especiais do texto,  corrigir problemas como os da palavra \"São Paulo\" que aparece na base como duas tokens, sendo que o correto é sua representação em bi-grams. Além disso, pretende-se treinar um modelo de classificação utilizando a representação de embeddings das palavras."
   ]
  }
 ],
 "metadata": {
  "accelerator": "GPU",
  "colab": {
   "collapsed_sections": [],
   "name": "POS_tagging.ipynb",
   "provenance": []
  },
  "kernelspec": {
   "display_name": "Python 3 (ipykernel)",
   "language": "python",
   "name": "python3"
  },
  "language_info": {
   "codemirror_mode": {
    "name": "ipython",
    "version": 3
   },
   "file_extension": ".py",
   "mimetype": "text/x-python",
   "name": "python",
   "nbconvert_exporter": "python",
   "pygments_lexer": "ipython3",
   "version": "3.8.10"
  },
  "toc": {
   "base_numbering": 1,
   "nav_menu": {},
   "number_sections": true,
   "sideBar": true,
   "skip_h1_title": false,
   "title_cell": "Table of Contents",
   "title_sidebar": "Contents",
   "toc_cell": false,
   "toc_position": {},
   "toc_section_display": true,
   "toc_window_display": false
  },
  "varInspector": {
   "cols": {
    "lenName": 16,
    "lenType": 16,
    "lenVar": 40
   },
   "kernels_config": {
    "python": {
     "delete_cmd_postfix": "",
     "delete_cmd_prefix": "del ",
     "library": "var_list.py",
     "varRefreshCmd": "print(var_dic_list())"
    },
    "r": {
     "delete_cmd_postfix": ") ",
     "delete_cmd_prefix": "rm(",
     "library": "var_list.r",
     "varRefreshCmd": "cat(var_dic_list()) "
    }
   },
   "types_to_exclude": [
    "module",
    "function",
    "builtin_function_or_method",
    "instance",
    "_Feature"
   ],
   "window_display": false
  }
 },
 "nbformat": 4,
 "nbformat_minor": 1
}
